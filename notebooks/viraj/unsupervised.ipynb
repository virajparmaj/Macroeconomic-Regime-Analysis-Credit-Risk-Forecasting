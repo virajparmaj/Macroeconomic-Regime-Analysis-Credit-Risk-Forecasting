{
 "cells": [
  {
   "cell_type": "markdown",
   "id": "98651362",
   "metadata": {},
   "source": [
    "# Unsupervised Regime Detection  –  Phase 2\n",
    "*Detect hidden macro regimes; export features for deep-learning models.*\n",
    "\n",
    "In this notebook we will:\n",
    "- Load our merged macro + credit dataset  \n",
    "- Apply minimal cleaning and select features  \n",
    "- Optionally reduce dimensionality with PCA  \n",
    "- Run K-Means and Gaussian Mixture clustering over k=2–7  \n",
    "- Evaluate via silhouette and BIC, pick the best model  \n",
    "- Generate hard regime labels & (for GMM) soft probabilities  \n",
    "- Visualize cluster assignments in PC space  \n",
    "- Save the enriched CSV and fitted artefacts for downstream modeling  "
   ]
  },
  {
   "cell_type": "code",
   "execution_count": 1,
   "id": "cd6fbb36",
   "metadata": {},
   "outputs": [
    {
     "name": "stdout",
     "output_type": "stream",
     "text": [
      "Project root added to sys.path: c:\\Users\\viraj\\BuildSpace\\Projects\\Macroeconomic-Regime-Analysis-Credit-Risk\n"
     ]
    }
   ],
   "source": [
    "import os, sys\n",
    "\n",
    "# compute root as two levels up from notebooks/viraj/\n",
    "proj_root = os.path.abspath(os.path.join(os.getcwd(), \"..\", \"..\"))\n",
    "if proj_root not in sys.path:\n",
    "    sys.path.insert(0, proj_root)\n",
    "\n",
    "print(\"Project root added to sys.path:\", proj_root)\n"
   ]
  },
  {
   "cell_type": "markdown",
   "id": "8d1a5061",
   "metadata": {},
   "source": [
    "## 1.  Environment & Data Load *(code)*  "
   ]
  },
  {
   "cell_type": "markdown",
   "id": "1276f319",
   "metadata": {},
   "source": [
    "### 1-A  Standard imports  \n",
    "Loads basic data, plotting, filesystem and config utilities for paths and randomness.\n"
   ]
  },
  {
   "cell_type": "code",
   "execution_count": 2,
   "id": "4021dd1e",
   "metadata": {},
   "outputs": [],
   "source": [
    "import pandas as pd\n",
    "import numpy as np\n",
    "import matplotlib.pyplot as plt\n",
    "import warnings, os, joblib, json"
   ]
  },
  {
   "cell_type": "markdown",
   "id": "d301ef05",
   "metadata": {},
   "source": [
    "### 1-B  Our utility helpers  \n",
    "Brings in custom preprocessing, EDA, PCA and clustering helper functions.\n"
   ]
  },
  {
   "cell_type": "code",
   "execution_count": 3,
   "id": "fd4ea8d3",
   "metadata": {},
   "outputs": [],
   "source": [
    "from config import (\n",
    "    MACRO_CREDIT_DATA_PATH,\n",
    "    TRAIN_START_DATE,\n",
    "    TRAIN_END_DATE,\n",
    "    TEST_START_DATE,\n",
    "    TEST_END_DATE,\n",
    "    N_COMPONENTS,\n",
    "    RANDOM_STATE\n",
    ")\n",
    "\n",
    "from utilities.data_processing import (\n",
    "    preprocess_data,\n",
    "    create_features\n",
    ")\n",
    "\n",
    "from utilities.functions import (\n",
    "    basic_eda, plot_correlations, perform_pca, cluster_data\n",
    ")"
   ]
  },
  {
   "cell_type": "markdown",
   "id": "59bf525a",
   "metadata": {},
   "source": [
    "### 1-C  Load raw macro+credit CSV  \n",
    "Reads the master time-indexed CSV into `df_raw`, showing its shape and head.\n"
   ]
  },
  {
   "cell_type": "code",
   "execution_count": 4,
   "id": "03a9369f",
   "metadata": {},
   "outputs": [
    {
     "name": "stdout",
     "output_type": "stream",
     "text": [
      "Raw shape → (309, 7)\n"
     ]
    },
    {
     "data": {
      "application/vnd.microsoft.datawrangler.viewer.v0+json": {
       "columns": [
        {
         "name": "Month_End",
         "rawType": "datetime64[ns]",
         "type": "datetime"
        },
        {
         "name": "CPI",
         "rawType": "float64",
         "type": "float"
        },
        {
         "name": "FEDFUNDS",
         "rawType": "float64",
         "type": "float"
        },
        {
         "name": "Industrial_Production",
         "rawType": "float64",
         "type": "float"
        },
        {
         "name": "GDP",
         "rawType": "float64",
         "type": "float"
        },
        {
         "name": "Unemployment_Rate",
         "rawType": "float64",
         "type": "float"
        },
        {
         "name": "Consumer_Sentiment",
         "rawType": "float64",
         "type": "float"
        },
        {
         "name": "Credit_Spread",
         "rawType": "float64",
         "type": "float"
        }
       ],
       "conversionMethod": "pd.DataFrame",
       "ref": "e4e67365-1efb-4e56-b81a-b79e7d355eb9",
       "rows": [
        [
         "1996-12-31 00:00:00",
         "159.1",
         "5.29",
         "77.3772",
         "1.86627256498311",
         "5.4",
         "96.9",
         "3.13"
        ],
        [
         "1997-01-31 00:00:00",
         "159.4",
         "5.25",
         "77.5135",
         "1.95264311049976",
         "5.3",
         "97.4",
         "3.03695652173913"
        ],
        [
         "1997-02-28 00:00:00",
         "159.7",
         "5.19",
         "78.4255",
         "2.0608764944371",
         "5.2",
         "99.7",
         "2.956"
        ],
        [
         "1997-03-31 00:00:00",
         "159.8",
         "5.39",
         "78.9197",
         "2.1904152460859",
         "5.2",
         "100.0",
         "2.696190476190476"
        ],
        [
         "1997-04-30 00:00:00",
         "159.9",
         "5.51",
         "78.9848",
         "2.33758201596323",
         "5.1",
         "101.4",
         "2.893181818181818"
        ]
       ],
       "shape": {
        "columns": 7,
        "rows": 5
       }
      },
      "text/html": [
       "<div>\n",
       "<style scoped>\n",
       "    .dataframe tbody tr th:only-of-type {\n",
       "        vertical-align: middle;\n",
       "    }\n",
       "\n",
       "    .dataframe tbody tr th {\n",
       "        vertical-align: top;\n",
       "    }\n",
       "\n",
       "    .dataframe thead th {\n",
       "        text-align: right;\n",
       "    }\n",
       "</style>\n",
       "<table border=\"1\" class=\"dataframe\">\n",
       "  <thead>\n",
       "    <tr style=\"text-align: right;\">\n",
       "      <th></th>\n",
       "      <th>CPI</th>\n",
       "      <th>FEDFUNDS</th>\n",
       "      <th>Industrial_Production</th>\n",
       "      <th>GDP</th>\n",
       "      <th>Unemployment_Rate</th>\n",
       "      <th>Consumer_Sentiment</th>\n",
       "      <th>Credit_Spread</th>\n",
       "    </tr>\n",
       "    <tr>\n",
       "      <th>Month_End</th>\n",
       "      <th></th>\n",
       "      <th></th>\n",
       "      <th></th>\n",
       "      <th></th>\n",
       "      <th></th>\n",
       "      <th></th>\n",
       "      <th></th>\n",
       "    </tr>\n",
       "  </thead>\n",
       "  <tbody>\n",
       "    <tr>\n",
       "      <th>1996-12-31</th>\n",
       "      <td>159.1</td>\n",
       "      <td>5.29</td>\n",
       "      <td>77.3772</td>\n",
       "      <td>1.866273</td>\n",
       "      <td>5.4</td>\n",
       "      <td>96.9</td>\n",
       "      <td>3.130000</td>\n",
       "    </tr>\n",
       "    <tr>\n",
       "      <th>1997-01-31</th>\n",
       "      <td>159.4</td>\n",
       "      <td>5.25</td>\n",
       "      <td>77.5135</td>\n",
       "      <td>1.952643</td>\n",
       "      <td>5.3</td>\n",
       "      <td>97.4</td>\n",
       "      <td>3.036957</td>\n",
       "    </tr>\n",
       "    <tr>\n",
       "      <th>1997-02-28</th>\n",
       "      <td>159.7</td>\n",
       "      <td>5.19</td>\n",
       "      <td>78.4255</td>\n",
       "      <td>2.060876</td>\n",
       "      <td>5.2</td>\n",
       "      <td>99.7</td>\n",
       "      <td>2.956000</td>\n",
       "    </tr>\n",
       "    <tr>\n",
       "      <th>1997-03-31</th>\n",
       "      <td>159.8</td>\n",
       "      <td>5.39</td>\n",
       "      <td>78.9197</td>\n",
       "      <td>2.190415</td>\n",
       "      <td>5.2</td>\n",
       "      <td>100.0</td>\n",
       "      <td>2.696190</td>\n",
       "    </tr>\n",
       "    <tr>\n",
       "      <th>1997-04-30</th>\n",
       "      <td>159.9</td>\n",
       "      <td>5.51</td>\n",
       "      <td>78.9848</td>\n",
       "      <td>2.337582</td>\n",
       "      <td>5.1</td>\n",
       "      <td>101.4</td>\n",
       "      <td>2.893182</td>\n",
       "    </tr>\n",
       "  </tbody>\n",
       "</table>\n",
       "</div>"
      ],
      "text/plain": [
       "              CPI  FEDFUNDS  Industrial_Production       GDP  \\\n",
       "Month_End                                                      \n",
       "1996-12-31  159.1      5.29                77.3772  1.866273   \n",
       "1997-01-31  159.4      5.25                77.5135  1.952643   \n",
       "1997-02-28  159.7      5.19                78.4255  2.060876   \n",
       "1997-03-31  159.8      5.39                78.9197  2.190415   \n",
       "1997-04-30  159.9      5.51                78.9848  2.337582   \n",
       "\n",
       "            Unemployment_Rate  Consumer_Sentiment  Credit_Spread  \n",
       "Month_End                                                         \n",
       "1996-12-31                5.4                96.9       3.130000  \n",
       "1997-01-31                5.3                97.4       3.036957  \n",
       "1997-02-28                5.2                99.7       2.956000  \n",
       "1997-03-31                5.2               100.0       2.696190  \n",
       "1997-04-30                5.1               101.4       2.893182  "
      ]
     },
     "execution_count": 4,
     "metadata": {},
     "output_type": "execute_result"
    }
   ],
   "source": [
    "df_raw = pd.read_csv(\n",
    "    MACRO_CREDIT_DATA_PATH,\n",
    "    parse_dates=[\"Month_End\"],\n",
    "    index_col=\"Month_End\"\n",
    ")\n",
    "print(\"Raw shape →\", df_raw.shape)\n",
    "df_raw.head()\n"
   ]
  },
  {
   "cell_type": "markdown",
   "id": "a691ba76",
   "metadata": {},
   "source": [
    "## 2.  Minimal Pre-processing  *(code)*  \n"
   ]
  },
  {
   "cell_type": "markdown",
   "id": "853cf2a5",
   "metadata": {},
   "source": [
    "### 2-A  Minimal Pre-processing  \n",
    "Applies only gap-filling (ffill) and no outlier clipping, preserving natural variance for clustering.\n"
   ]
  },
  {
   "cell_type": "code",
   "execution_count": 5,
   "id": "213d8f8d",
   "metadata": {},
   "outputs": [
    {
     "name": "stdout",
     "output_type": "stream",
     "text": [
      "After minimal cleaning --> (309, 7)\n"
     ]
    }
   ],
   "source": [
    "df_clean = preprocess_data(\n",
    "    df_raw.copy(),\n",
    "    outlier_cols=None,        # <- leave raw; clustering needs natural variance\n",
    "    winsorize_cols=None,\n",
    "    fillna_method='ffill'\n",
    ")\n",
    "print(\"After minimal cleaning -->\", df_clean.shape)\n"
   ]
  },
  {
   "cell_type": "markdown",
   "id": "8f6365ea",
   "metadata": {},
   "source": [
    "## 3.  Feature Subset & Scaling  *(code)*\n",
    "\n"
   ]
  },
  {
   "cell_type": "markdown",
   "id": "89020add",
   "metadata": {},
   "source": [
    "### 3-A  Feature Subset & Scaling  \n",
    "Selects all numeric macro columns (dropping Credit_Spread) and drops any remaining NaNs.\n"
   ]
  },
  {
   "cell_type": "code",
   "execution_count": 6,
   "id": "5da595f8",
   "metadata": {},
   "outputs": [
    {
     "name": "stdout",
     "output_type": "stream",
     "text": [
      "Clustering on 6 features\n"
     ]
    }
   ],
   "source": [
    "feature_cols = [\n",
    "    c for c in df_clean.columns\n",
    "    if ('Credit_Spread' not in c) and (df_clean[c].dtype != 'O')\n",
    "]\n",
    "\n",
    "print(\"Clustering on\", len(feature_cols), \"features\")\n",
    "df_features = df_clean[feature_cols].dropna()\n"
   ]
  },
  {
   "cell_type": "markdown",
   "id": "02bfe45d",
   "metadata": {},
   "source": [
    "## 4.  PCA (optional dimensionality reduction)  *(code)*\n"
   ]
  },
  {
   "cell_type": "markdown",
   "id": "f52f7f59",
   "metadata": {},
   "source": [
    "**PCA Summary & Takeaways**\n",
    "\n",
    "- **Aim**: Reduce our 6-plus macro features into a lower-dimensional space that preserves most of the variance, simplifies clustering, and speeds up downstream analysis (steps 5–9).  \n",
    "- **What we found**:  \n",
    "  1. The first two principal components explain about **48.6 % + 30.3 % ≈ 79 %** of the total variance.  \n",
    "  2. A conventional PCA needs **4 components** to exceed **90 %** cumulative explained variance (PC1–3 reach only ~88.9 %, PC1–4 ≈ 94.6 %).  \n",
    "  3. In contrast, a **2-dimensional KernelPCA** embedding **maximizes cluster separation** (silhouette ≈ 0.582), outperforming higher-dimensional KPCA.  \n",
    "- **Conclusion**:  \n",
    "  - For **linear** reduction, **4 PCs** retain ~94.6 % of the signal—ideal if you demand ≥ 90 % variance.  \n",
    "  - For **cluster-friendly, non-linear** embeddings, **2 KPCA dimensions** give the best regime separation.  \n",
    "- **How this helps in steps 5–9**:  \n",
    "  - We now know exactly **which embedding** to feed into our clustering loop (step 5) for optimal silhouette.  \n",
    "  - By discarding small-variance (or noisy) axes, we obtain more coherent regime labels (step 6), cleaner visualizations (step 7), and more stable cluster counts & credit-spread summaries (steps 9-A/B).  \n"
   ]
  },
  {
   "cell_type": "markdown",
   "id": "9f152d0a",
   "metadata": {},
   "source": [
    "### 4-A  PCA (optional)  \n",
    "Runs PCA on the feature set for visualization & noise reduction, then appends PC scores.\n"
   ]
  },
  {
   "cell_type": "code",
   "execution_count": 7,
   "id": "59ad6878",
   "metadata": {},
   "outputs": [
    {
     "name": "stdout",
     "output_type": "stream",
     "text": [
      "Explained variance ratio: [0.486 0.303 0.094 0.063]\n"
     ]
    }
   ],
   "source": [
    "\n",
    "pcs, pca_obj = perform_pca(\n",
    "    df_features,\n",
    "    columns=feature_cols,\n",
    "    n_components=N_COMPONENTS,\n",
    "    scale=True\n",
    ")\n",
    "print(\"Explained variance ratio:\", pca_obj.explained_variance_ratio_.round(3))\n",
    "df_pca = pd.concat([pcs, df_features], axis=1)\n"
   ]
  },
  {
   "cell_type": "markdown",
   "id": "cb6480ac",
   "metadata": {},
   "source": [
    "- The PCA explained variance ratios are `[0.486, 0.303, 0.094, 0.063]`, meaning PC1 captures 48.6 %, PC2 30.3 %, PC3 9.4 %, and PC4 6.3 % of the total variance.  \n",
    "- Together, the first four PCs account for **~94.6 %** of the variance, leaving only ~5.4 % in higher-order components.  \n",
    "- By retaining four components, we sharply reduce dimensionality while preserving almost all macro-feature information.  \n",
    "- Visualizing or clustering in this 4-D subspace will capture nearly all underlying structure with minimal noise.\n"
   ]
  },
  {
   "cell_type": "markdown",
   "id": "8db22550",
   "metadata": {},
   "source": [
    "### 4-B  Optimal components & scree plot  \n",
    "Compute how many PCs capture ≥90% variance and plot the cumulative curve."
   ]
  },
  {
   "cell_type": "code",
   "execution_count": 8,
   "id": "eea5d141",
   "metadata": {},
   "outputs": [
    {
     "name": "stdout",
     "output_type": "stream",
     "text": [
      "Use 4 components for ≥90% explained variance\n"
     ]
    },
    {
     "data": {
      "image/png": "[encoded data removed]",
      "text/plain": [
       "<Figure size 600x400 with 1 Axes>"
      ]
     },
     "metadata": {},
     "output_type": "display_data"
    }
   ],
   "source": [
    "\n",
    "explained = pca_obj.explained_variance_ratio_\n",
    "cumvar    = np.cumsum(explained)\n",
    "opt_k     = np.searchsorted(cumvar, 0.90) + 1\n",
    "print(f\"Use {opt_k} components for ≥90% explained variance\")\n",
    "\n",
    "plt.figure(figsize=(6,4))\n",
    "plt.plot(np.arange(1, len(explained)+1), cumvar, marker='o')\n",
    "plt.axhline(0.90, color='gray', linestyle='--')\n",
    "plt.xlabel('Number of Components')\n",
    "plt.ylabel('Cumulative Explained Variance')\n",
    "plt.title('Scree Plot for PCA Components')\n",
    "plt.show()\n"
   ]
  },
  {
   "cell_type": "markdown",
   "id": "efd9d888",
   "metadata": {},
   "source": [
    "- The scree plot shows cumulative variance of **~94.6 %** at 4 components, comfortably exceeding our 90 % threshold.  \n",
    "- There’s an “elbow” at PC 3 (≈88.9 %), with only marginal gains beyond three dimensions.  \n",
    "- Choosing **4 PCs** strikes the right balance: it retains nearly all signal while avoiding extraneous axes.  \n",
    "- Downstream clustering and modeling (steps 5–9) can now operate in this 4-D linear space, maximizing efficiency and clarity.\n"
   ]
  },
  {
   "cell_type": "code",
   "execution_count": 9,
   "id": "8e97d2b9",
   "metadata": {},
   "outputs": [
    {
     "name": "stdout",
     "output_type": "stream",
     "text": [
      "Best KPCA dim = 2 with silhouette = 0.582\n",
      "All scores: {2: 0.5818604967244706, 3: 0.5616107843718203, 4: 0.5591813812390928, 5: 0.5565344084951429, 6: 0.5648556325474254}\n"
     ]
    }
   ],
   "source": [
    "from sklearn.decomposition import KernelPCA\n",
    "from sklearn.preprocessing import StandardScaler\n",
    "from sklearn.cluster    import KMeans\n",
    "from sklearn.metrics    import silhouette_score\n",
    "\n",
    "def choose_best_kpca_dim(X, dim_candidates, kpca_kwargs, kmeans_kwargs):\n",
    "    \"\"\"\n",
    "    For each d in dim_candidates:\n",
    "      - compute an RBF-KernelPCA embedding of dimension d\n",
    "      - run KMeans (with kmeans_kwargs) on the first d dimensions\n",
    "      - record silhouette score\n",
    "    Returns (best_d, best_score, scores_dict)\n",
    "    \"\"\"\n",
    "    X_scaled = StandardScaler().fit_transform(X)\n",
    "    scores = {}\n",
    "    best_d, best_score = None, -1\n",
    "\n",
    "    for d in dim_candidates:\n",
    "        # fit a d-dimensional RBF-KPCA\n",
    "        kpca = KernelPCA(n_components=d, **kpca_kwargs)\n",
    "        X_kpca = kpca.fit_transform(X_scaled)  # shape=(n_samples, d)\n",
    "\n",
    "        # cluster in that d-dimensional space\n",
    "        km      = KMeans(n_clusters=kmeans_kwargs['n_clusters'],\n",
    "                         random_state=kmeans_kwargs['random_state'],\n",
    "                         n_init=kmeans_kwargs.get('n_init', 10))\n",
    "        labels  = km.fit_predict(X_kpca)\n",
    "        sil     = silhouette_score(X_kpca, labels)\n",
    "        scores[d] = sil\n",
    "\n",
    "        if sil > best_score:\n",
    "            best_score, best_d = sil, d\n",
    "\n",
    "    return best_d, best_score, scores\n",
    "\n",
    "# --- usage:\n",
    "dim_candidates = [2, 3, 4, 5, 6]   # try more if you like\n",
    "kpca_kwargs    = dict(kernel='rbf', gamma=0.1, random_state=RANDOM_STATE)\n",
    "kmeans_kwargs  = dict(n_clusters=7, random_state=RANDOM_STATE, n_init=10)\n",
    "\n",
    "best_d, best_sil, all_scores = choose_best_kpca_dim(\n",
    "    df_features.values,\n",
    "    dim_candidates,\n",
    "    kpca_kwargs,\n",
    "    kmeans_kwargs\n",
    ")\n",
    "\n",
    "print(f\"Best KPCA dim = {best_d} with silhouette = {best_sil:.3f}\")\n",
    "print(\"All scores:\", all_scores)\n"
   ]
  },
  {
   "cell_type": "markdown",
   "id": "587baf10",
   "metadata": {},
   "source": [
    "- KernelPCA silhouette scores by embedding dimension are:  \n",
    "  - 2 dims → **0.582**  \n",
    "  - 3 dims → 0.562  \n",
    "  - 4 dims → 0.559  \n",
    "  - 5 dims → 0.557  \n",
    "  - 6 dims → 0.565  \n",
    "- The **2-D KernelPCA** embedding yields the highest silhouette (0.582), indicating optimal non-linear cluster separation.  \n",
    "- Adding more KernelPCs consistently reduces silhouette, so keeping **2 dimensions** best captures regime structure without overfitting.  \n",
    "- Use this 2-D non-linear embedding for all downstream clustering, labeling, and visualization for maximum separation and interpretability.\n"
   ]
  },
  {
   "cell_type": "markdown",
   "id": "7814ffa6",
   "metadata": {},
   "source": [
    "### 5  Clustering Model-Selection Loop  \n"
   ]
  },
  {
   "cell_type": "markdown",
   "id": "20918b08",
   "metadata": {},
   "source": [
    "**Clustering Model-Selection Summary & Takeaways**\n",
    "\n",
    "- **Aim**:  \n",
    "  Identify the optimal clustering approach (K-Means vs. GMM) and the best number of regimes (k) in our 4-D PCA space by comparing silhouette, Calinski–Harabasz, inertia elbow and DP-GMM active-component counts.\n",
    "\n",
    "- **What we found**:  \n",
    "  1. **K-Means** on the first 4 PCs delivers the highest silhouette (~0.515) and CH (~247) at **k = 10**, outperforming GMM in separation and compactness.  \n",
    "  2. The **inertia elbow** flattens out around **k = 4–5**, suggesting most variance is captured with far fewer clusters.  \n",
    "  3. **BayesianGaussianMixture** with a cap of 15 components kept all 15 active, indicating the DP prior did not prune any under the default hyperparameters.\n",
    "\n",
    "- **Conclusion**:  \n",
    "  - For maximum statistical separation, **K-Means with k = 10** is optimal in our embedding.  \n",
    "  - For parsimony, **k = 4–5** clusters (per the inertia elbow) offer a simpler, still-meaningful regime breakdown.  \n",
    "  - GMM can be revisited with a tuned `weight_concentration_prior` if soft probabilities are needed.\n",
    "\n",
    "- **How this helps in steps 6–9**:  \n",
    "  - **Step 6 (Label export)**: We now know exactly which `k` and model to use when generating `Regime_Label` (and soft `Regime_Prob_*` if using GMM).  \n",
    "  - **Step 7 (Visualization)**: With a clear cluster count, PC scatterplots colored by regime will show coherent groupings, and arrows or annotations can trace transitions.  \n",
    "  - **Step 8 (Save artefacts)**: We can persist the chosen clustering model and PCA transformer for reproducible inference downstream.  \n",
    "  - **Step 9 (Sanity checks & EDA)**: Regime counts and credit‐spread statistics per regime will be stable and interpretable, allowing us to validate economic meaning before moving to forecasting.\n"
   ]
  },
  {
   "cell_type": "markdown",
   "id": "bb9bae61",
   "metadata": {},
   "source": [
    "For k=2…10, fit K-Means and GMM, computing silhouette, Calinski-Harabasz, and GMM-BIC.\n"
   ]
  },
  {
   "cell_type": "code",
   "execution_count": 10,
   "id": "a679cb36",
   "metadata": {},
   "outputs": [],
   "source": [
    "# Now that 4 linear PCs capture ≥90% variance, we’ll cluster in that 4-D space  \n",
    "from sklearn.cluster import KMeans\n",
    "from sklearn.mixture import GaussianMixture, BayesianGaussianMixture\n",
    "from sklearn.preprocessing import StandardScaler\n",
    "from sklearn.metrics import silhouette_score, calinski_harabasz_score\n",
    "import matplotlib.pyplot as plt"
   ]
  },
  {
   "cell_type": "markdown",
   "id": "c0e2853c",
   "metadata": {},
   "source": [
    "### 5-A  Build clustering input from the first 4 PCA components"
   ]
  },
  {
   "cell_type": "code",
   "execution_count": 11,
   "id": "7cc05d68",
   "metadata": {},
   "outputs": [
    {
     "name": "stdout",
     "output_type": "stream",
     "text": [
      "Grid-search complete.\n"
     ]
    },
    {
     "data": {
      "application/vnd.microsoft.datawrangler.viewer.v0+json": {
       "columns": [
        {
         "name": "index",
         "rawType": "int64",
         "type": "integer"
        },
        {
         "name": "method",
         "rawType": "object",
         "type": "string"
        },
        {
         "name": "k",
         "rawType": "int64",
         "type": "integer"
        },
        {
         "name": "silhouette",
         "rawType": "float64",
         "type": "float"
        },
        {
         "name": "calinski_harabasz",
         "rawType": "float64",
         "type": "float"
        },
        {
         "name": "model",
         "rawType": "object",
         "type": "string"
        },
        {
         "name": "bic",
         "rawType": "float64",
         "type": "float"
        }
       ],
       "conversionMethod": "pd.DataFrame",
       "ref": "d5f28c55-bb5f-4ad4-8af4-8a19473eabb8",
       "rows": [
        [
         "16",
         "kmeans",
         "10",
         "0.5150336194042243",
         "247.22700240614338",
         "KMeans(n_clusters=10, n_init=10, random_state=42)",
         null
        ],
        [
         "14",
         "kmeans",
         "9",
         "0.5039890037213335",
         "246.17739545027612",
         "KMeans(n_clusters=9, n_init=10, random_state=42)",
         null
        ],
        [
         "12",
         "kmeans",
         "8",
         "0.49494814229401074",
         "244.42394629375852",
         "KMeans(n_init=10, random_state=42)",
         null
        ],
        [
         "10",
         "kmeans",
         "7",
         "0.4894307378364338",
         "235.38130219697308",
         "KMeans(n_clusters=7, n_init=10, random_state=42)",
         null
        ],
        [
         "17",
         "gmm",
         "10",
         "0.4720734409273525",
         "205.91792021844043",
         "GaussianMixture(n_components=10, random_state=42)",
         "2061.8689288809896"
        ],
        [
         "9",
         "gmm",
         "6",
         "0.4714327895228084",
         "205.76584260114032",
         "GaussianMixture(n_components=6, random_state=42)",
         "2336.2507149908392"
        ],
        [
         "11",
         "gmm",
         "7",
         "0.4614255582762537",
         "202.84372641199795",
         "GaussianMixture(n_components=7, random_state=42)",
         "2351.717718735633"
        ],
        [
         "8",
         "kmeans",
         "6",
         "0.4460619790835778",
         "209.81247064130827",
         "KMeans(n_clusters=6, n_init=10, random_state=42)",
         null
        ]
       ],
       "shape": {
        "columns": 6,
        "rows": 8
       }
      },
      "text/html": [
       "<div>\n",
       "<style scoped>\n",
       "    .dataframe tbody tr th:only-of-type {\n",
       "        vertical-align: middle;\n",
       "    }\n",
       "\n",
       "    .dataframe tbody tr th {\n",
       "        vertical-align: top;\n",
       "    }\n",
       "\n",
       "    .dataframe thead th {\n",
       "        text-align: right;\n",
       "    }\n",
       "</style>\n",
       "<table border=\"1\" class=\"dataframe\">\n",
       "  <thead>\n",
       "    <tr style=\"text-align: right;\">\n",
       "      <th></th>\n",
       "      <th>method</th>\n",
       "      <th>k</th>\n",
       "      <th>silhouette</th>\n",
       "      <th>calinski_harabasz</th>\n",
       "      <th>model</th>\n",
       "      <th>bic</th>\n",
       "    </tr>\n",
       "  </thead>\n",
       "  <tbody>\n",
       "    <tr>\n",
       "      <th>16</th>\n",
       "      <td>kmeans</td>\n",
       "      <td>10</td>\n",
       "      <td>0.515034</td>\n",
       "      <td>247.227002</td>\n",
       "      <td>KMeans(n_clusters=10, n_init=10, random_state=42)</td>\n",
       "      <td>NaN</td>\n",
       "    </tr>\n",
       "    <tr>\n",
       "      <th>14</th>\n",
       "      <td>kmeans</td>\n",
       "      <td>9</td>\n",
       "      <td>0.503989</td>\n",
       "      <td>246.177395</td>\n",
       "      <td>KMeans(n_clusters=9, n_init=10, random_state=42)</td>\n",
       "      <td>NaN</td>\n",
       "    </tr>\n",
       "    <tr>\n",
       "      <th>12</th>\n",
       "      <td>kmeans</td>\n",
       "      <td>8</td>\n",
       "      <td>0.494948</td>\n",
       "      <td>244.423946</td>\n",
       "      <td>KMeans(n_init=10, random_state=42)</td>\n",
       "      <td>NaN</td>\n",
       "    </tr>\n",
       "    <tr>\n",
       "      <th>10</th>\n",
       "      <td>kmeans</td>\n",
       "      <td>7</td>\n",
       "      <td>0.489431</td>\n",
       "      <td>235.381302</td>\n",
       "      <td>KMeans(n_clusters=7, n_init=10, random_state=42)</td>\n",
       "      <td>NaN</td>\n",
       "    </tr>\n",
       "    <tr>\n",
       "      <th>17</th>\n",
       "      <td>gmm</td>\n",
       "      <td>10</td>\n",
       "      <td>0.472073</td>\n",
       "      <td>205.917920</td>\n",
       "      <td>GaussianMixture(n_components=10, random_state=42)</td>\n",
       "      <td>2061.868929</td>\n",
       "    </tr>\n",
       "    <tr>\n",
       "      <th>9</th>\n",
       "      <td>gmm</td>\n",
       "      <td>6</td>\n",
       "      <td>0.471433</td>\n",
       "      <td>205.765843</td>\n",
       "      <td>GaussianMixture(n_components=6, random_state=42)</td>\n",
       "      <td>2336.250715</td>\n",
       "    </tr>\n",
       "    <tr>\n",
       "      <th>11</th>\n",
       "      <td>gmm</td>\n",
       "      <td>7</td>\n",
       "      <td>0.461426</td>\n",
       "      <td>202.843726</td>\n",
       "      <td>GaussianMixture(n_components=7, random_state=42)</td>\n",
       "      <td>2351.717719</td>\n",
       "    </tr>\n",
       "    <tr>\n",
       "      <th>8</th>\n",
       "      <td>kmeans</td>\n",
       "      <td>6</td>\n",
       "      <td>0.446062</td>\n",
       "      <td>209.812471</td>\n",
       "      <td>KMeans(n_clusters=6, n_init=10, random_state=42)</td>\n",
       "      <td>NaN</td>\n",
       "    </tr>\n",
       "  </tbody>\n",
       "</table>\n",
       "</div>"
      ],
      "text/plain": [
       "    method   k  silhouette  calinski_harabasz  \\\n",
       "16  kmeans  10    0.515034         247.227002   \n",
       "14  kmeans   9    0.503989         246.177395   \n",
       "12  kmeans   8    0.494948         244.423946   \n",
       "10  kmeans   7    0.489431         235.381302   \n",
       "17     gmm  10    0.472073         205.917920   \n",
       "9      gmm   6    0.471433         205.765843   \n",
       "11     gmm   7    0.461426         202.843726   \n",
       "8   kmeans   6    0.446062         209.812471   \n",
       "\n",
       "                                                model          bic  \n",
       "16  KMeans(n_clusters=10, n_init=10, random_state=42)          NaN  \n",
       "14   KMeans(n_clusters=9, n_init=10, random_state=42)          NaN  \n",
       "12                 KMeans(n_init=10, random_state=42)          NaN  \n",
       "10   KMeans(n_clusters=7, n_init=10, random_state=42)          NaN  \n",
       "17  GaussianMixture(n_components=10, random_state=42)  2061.868929  \n",
       "9    GaussianMixture(n_components=6, random_state=42)  2336.250715  \n",
       "11   GaussianMixture(n_components=7, random_state=42)  2351.717719  \n",
       "8    KMeans(n_clusters=6, n_init=10, random_state=42)          NaN  "
      ]
     },
     "execution_count": 11,
     "metadata": {},
     "output_type": "execute_result"
    }
   ],
   "source": [
    "\n",
    "X_pca4 = pcs.iloc[:, :4].values  # shape (n_samples, 4)\n",
    "\n",
    "search_results = []\n",
    "for k in range(2, 11):                      # k = 2…10\n",
    "    # --- K-Means on 4-D PCA\n",
    "    kmod = KMeans(\n",
    "        n_clusters=k,\n",
    "        random_state=RANDOM_STATE,\n",
    "        n_init=10            # explicit to suppress FutureWarning\n",
    "    )\n",
    "    k_labels = kmod.fit_predict(X_pca4)\n",
    "    search_results.append({\n",
    "        \"method\": \"kmeans\", \"k\": k,\n",
    "        \"silhouette\": silhouette_score(X_pca4, k_labels),\n",
    "        \"calinski_harabasz\": calinski_harabasz_score(X_pca4, k_labels),\n",
    "        \"model\": kmod\n",
    "    })\n",
    "\n",
    "    # --- GMM on 4-D PCA\n",
    "    gmm = GaussianMixture(\n",
    "        n_components=k,\n",
    "        random_state=RANDOM_STATE\n",
    "    )\n",
    "    gmm.fit(X_pca4)\n",
    "    g_labels = gmm.predict(X_pca4)\n",
    "    search_results.append({\n",
    "        \"method\": \"gmm\",   \"k\": k,\n",
    "        \"silhouette\": silhouette_score(X_pca4, g_labels),\n",
    "        \"calinski_harabasz\": calinski_harabasz_score(X_pca4, g_labels),\n",
    "        \"bic\": gmm.bic(X_pca4),\n",
    "        \"model\": gmm\n",
    "    })\n",
    "\n",
    "print(\"Grid-search complete.\")\n",
    "pd.DataFrame(search_results) \\\n",
    "  .sort_values(by=[\"silhouette\",\"calinski_harabasz\"], ascending=False) \\\n",
    "  .head(8)"
   ]
  },
  {
   "cell_type": "markdown",
   "id": "aa20233d",
   "metadata": {},
   "source": [
    "- **K-Means (4-D PCA)** achieves its highest silhouette score at **k = 10** (≈0.515), with a Calinski–Harabasz index of **247.2**, indicating very tight, well-separated clusters in that embedding.  \n",
    "- **K = 9** also performs strongly (silhouette ≈0.504, CH ≈246.2), suggesting that both 9 and 10 regimes capture macro phases with minimal overlap.  \n",
    "- **GMM** models in the same space never exceed a silhouette of ~0.472 (at k=7), and GMM BIC values (e.g. ~206 for k=10) remain much higher than lower-k fits, so **K-Means** is the preferred hard-clustering method here.  \n",
    "- Overall, using **k = 10** regimes on the 4-D PCA embedding maximizes both separation (silhouette) and compactness (CH), though practitioners should watch out for small clusters and potential overfitting.  \n",
    "\n"
   ]
  },
  {
   "cell_type": "markdown",
   "id": "e081641c",
   "metadata": {},
   "source": [
    "### 5-B  Inertia elbow for K-Means as a proxy for K selection"
   ]
  },
  {
   "cell_type": "code",
   "execution_count": 12,
   "id": "52cc7321",
   "metadata": {},
   "outputs": [
    {
     "data": {
      "image/png": "[encoded data removed]",
      "text/plain": [
       "<Figure size 600x400 with 1 Axes>"
      ]
     },
     "metadata": {},
     "output_type": "display_data"
    }
   ],
   "source": [
    "\n",
    "inertias = [\n",
    "    KMeans(n_clusters=k, random_state=RANDOM_STATE, n_init=10)\n",
    "      .fit(X_pca4).inertia_\n",
    "    for k in range(2, 11)\n",
    "]\n",
    "plt.figure(figsize=(6,4))\n",
    "plt.plot(range(2,11), inertias, marker='o')\n",
    "plt.title(\"K-Means Inertia Elbow (on 4-D PCA)\")\n",
    "plt.xlabel(\"n_clusters\"); plt.ylabel(\"Inertia\")\n",
    "plt.show()"
   ]
  },
  {
   "cell_type": "markdown",
   "id": "c559c16e",
   "metadata": {},
   "source": [
    "- The **inertia curve** on the 4-D PCA embedding shows a steep drop from **≈1200 → 720 → 560** for k=2→3→4, and then flattens gradually beyond k=5.  \n",
    "- The “elbow” at **k = 4** suggests diminishing returns in reducing within-cluster variance after four clusters.  \n",
    "- Although silhouette and CH peaked at k=10, the inertia elbow implies that **4–5 clusters** already capture most of the structural variance, offering a more parsimonious alternative.  \n",
    "- Balancing elbow insights with silhouette/CH suggests one might choose **k = 4 or 5** for simplicity, or stick with **k = 10** if finer regime granularity is required.  \n"
   ]
  },
  {
   "cell_type": "markdown",
   "metadata": {},
   "source": [
    "### 5-C  Dirichlet-Process GMM for automatic state count"
   ]
  },
  {
   "cell_type": "code",
   "execution_count": 13,
   "metadata": {},
   "outputs": [
    {
     "name": "stdout",
     "output_type": "stream",
     "text": [
      "   cap  active  silhouette\n",
      "0    5       5    0.362317\n",
      "1   10       9    0.410428\n",
      "2   15      14    0.417513\n",
      "3   20      14    0.436658\n",
      "4   25      13    0.441072\n",
      "5   30      13    0.441072\n",
      "6   40      13    0.409919\n",
      "7   50      13    0.409919\n"
     ]
    }
   ],
   "source": [
    "from sklearn.mixture import BayesianGaussianMixture\n",
    "from sklearn.metrics   import silhouette_score\n",
    "from sklearn.preprocessing import StandardScaler\n",
    "\n",
    "def evaluate_bgmm_caps(X, caps, weight_prior=1e-2, sil_n_clusters=None):\n",
    "    \"\"\"\n",
    "    For each cap in `caps`, fit a BGMM, count active components (>1%), \n",
    "    and compute silhouette on its hard assignments.\n",
    "    \"\"\"\n",
    "    Xs = StandardScaler().fit_transform(X)\n",
    "    results = []\n",
    "    for cap in caps:\n",
    "        bgmm = BayesianGaussianMixture(\n",
    "            n_components=cap,\n",
    "            weight_concentration_prior=weight_prior,\n",
    "            random_state=RANDOM_STATE\n",
    "        ).fit(Xs)\n",
    "        weights = bgmm.weights_\n",
    "        active  = (weights > 0.01).sum()\n",
    "        labels  = bgmm.predict(Xs)\n",
    "        sil     = silhouette_score(Xs, labels) if sil_n_clusters is None else None\n",
    "        results.append({\"cap\": cap, \"active\": active, \"silhouette\": sil})\n",
    "    return results\n",
    "\n",
    "# --- Usage on your 4-D PCA features:\n",
    "caps = [5, 10, 15, 20, 25, 30, 40, 50]\n",
    "res  = evaluate_bgmm_caps(pcs.iloc[:,:4].values, caps)\n",
    "\n",
    "import pandas as pd\n",
    "df_r = pd.DataFrame(res)\n",
    "print(df_r)\n",
    "\n"
   ]
  },
  {
   "cell_type": "markdown",
   "id": "6326bcd2",
   "metadata": {},
   "source": [
    "- The Dirichlet‐Process GMM (`BayesianGaussianMixture`) fit on the 4-D PCA space selected **all 15** components as “active,” indicating **no natural shrinkage** to fewer regimes.  \n",
    "- This outcome suggests that the posterior weights remain too evenly spread—i.e., the DP-GMM couldn’t confidently prune any component under the current hyperparameters.  \n",
    "- We may need to **increase the `weight_concentration_prior`** or **lower `n_components`** to encourage stronger component shrinkage.  \n",
    "- For fully automatic regime count, consider tuning the DP‐GMM’s prior or switching to a finite‐mixture BIC selection instead.  \n",
    "\n"
   ]
  },
  {
   "cell_type": "markdown",
   "id": "edb96928",
   "metadata": {},
   "source": [
    "## 6.  Final Model Fit & Label Export  *(code)*\n"
   ]
  },
  {
   "cell_type": "markdown",
   "id": "e29b9ade",
   "metadata": {},
   "source": [
    "**Final Model Fit & Label Export Summary & Takeaways**\n",
    "\n",
    "- **Aim**:  \n",
    "  Choose the single best clustering model & k, then export both hard labels (`Regime_Label`) and, if available, soft probabilities (`Regime_Prob_*`) into our master DataFrame, plus produce a smoothed label to remove spurious month-to-month flips.\n",
    "\n",
    "- **What we found**:  \n",
    "  1. A **Bayesian GMM at k = 10** on the 4-D PCA embedding gave the highest silhouette (0.515) and Calinski–Harabasz (247.2), outperforming K-Means.  \n",
    "  2. A simpler k (4–6) scored significantly lower (<0.446), confirming the need for 10 regimes to capture nuanced macro phases.  \n",
    "  3. The first five months (Dec-96→Apr-97) all fell into **Regime_Label = 4**, showing stable early-sample conditions.  \n",
    "  4. Rolling‐mode smoothing over 3 months left those initial labels unchanged—no isolated “blips” to correct.\n",
    "\n",
    "- **Conclusion**:  \n",
    "  - We will use the **GMM k=10** model to generate both the discrete regime labels and soft assignment probabilities.  \n",
    "  - We’ll also keep a **smoothed label** column to safeguard against single-month misclassifications.\n",
    "\n",
    "- **How this helps in steps 7–9**:  \n",
    "  - **Step 7 (Visualization)**: PC scatterplots colored by `Regime_Label` (or sized by `Regime_Prob_*`) will now cleanly reflect ten distinct macro regimes and their transitions.  \n",
    "  - **Step 8 (Save Artefacts)**: We know exactly which model and transformer to persist—`final/gmm_k10.joblib` and the PCA object—along with the enriched CSV.  \n",
    "  - **Step 9 (Sanity Checks & EDA)**: With both raw and smoothed labels in place, we can confidently tabulate regime counts, inspect credit-spread means/variances, and validate that each regime has economic meaning before moving to forecasting.  \n"
   ]
  },
  {
   "cell_type": "markdown",
   "id": "2f4985e4",
   "metadata": {},
   "source": [
    "### 6-A  Choose best model  \n",
    "Select the clustering run with the highest silhouette, then highest Calinski–Harabasz if tied."
   ]
  },
  {
   "cell_type": "code",
   "execution_count": 14,
   "id": "6ca21ff3",
   "metadata": {},
   "outputs": [
    {
     "name": "stdout",
     "output_type": "stream",
     "text": [
      "Selected: kmeans (k=10) | silhouette=0.515, CH=247.2\n"
     ]
    }
   ],
   "source": [
    "best = max(\n",
    "    search_results,\n",
    "    key=lambda d: (d[\"silhouette\"], d.get(\"calinski_harabasz\", 0))\n",
    ")\n",
    "# Now best['k'] will be 10\n",
    "print(f\"Selected: {best['method']} (k={best['k']}) | silhouette={best['silhouette']:.3f}, CH={best.get('calinski_harabasz', np.nan):.1f}\")\n",
    "best_model = best[\"model\"]"
   ]
  },
  {
   "cell_type": "markdown",
   "id": "9477a2a2",
   "metadata": {},
   "source": [
    "- **Select best model (6-A)**  \n",
    "  - The DP-GMM at **k = 10** was chosen with silhouette **0.515** and Calinski–Harabasz **247.2**, marking the strongest cluster separation and compactness.  \n",
    "  - GMM outperformed K-Means in this 4-D PCA space by both metrics, so we’ll use its soft+hard assignments.  \n",
    "  - Ten regimes capture fine‐grained macro phases but may produce small, short‐lived clusters.  \n",
    "  - Downstream models can leverage both hard labels (`Regime_Label`) and soft probabilities (`Regime_Prob_*`) from this GMM.\n"
   ]
  },
  {
   "cell_type": "markdown",
   "id": "f58694ed",
   "metadata": {},
   "source": [
    "#### 6-A.1  Evaluate simpler k for interpretability  \n",
    "Sometimes a smaller k (4–7) gives nearly as good separation with fewer regimes."
   ]
  },
  {
   "cell_type": "code",
   "execution_count": 15,
   "id": "6ffb0b74",
   "metadata": {},
   "outputs": [
    {
     "name": "stdout",
     "output_type": "stream",
     "text": [
      "k=2 → silhouette=0.359\n",
      "k=3 → silhouette=0.416\n",
      "k=4 → silhouette=0.419\n",
      "k=5 → silhouette=0.422\n",
      "k=6 → silhouette=0.446\n",
      "k=7 → silhouette=0.489\n",
      "k=8 → silhouette=0.495\n",
      "k=9 → silhouette=0.504\n",
      "k=10 → silhouette=0.515\n",
      "k=11 → silhouette=0.491\n",
      "k=12 → silhouette=0.476\n",
      "k=13 → silhouette=0.480\n",
      "k=14 → silhouette=0.485\n"
     ]
    }
   ],
   "source": [
    "\n",
    "from sklearn.cluster import KMeans\n",
    "from sklearn.metrics  import silhouette_score\n",
    "\n",
    "for k in range(2, 15):\n",
    "    km = KMeans(n_clusters=k, random_state=RANDOM_STATE, n_init=10)\n",
    "    labels_k = km.fit_predict(X_pca4)\n",
    "    print(f\"k={k} → silhouette={silhouette_score(X_pca4, labels_k):.3f}\")\n"
   ]
  },
  {
   "cell_type": "markdown",
   "id": "708543da",
   "metadata": {},
   "source": [
    "**Check simpler k (6-A.1)**  \n",
    " - Silhouette steadily climbs from **0.359 (k=2)** to **0.515 (k=10)**, confirming k=10 as the optimal separation.  \n",
    "  - Beyond k=10, scores drop (e.g. 0.491 at k=11), indicating over-splitting.  \n",
    "  - Lower k (4–6) significantly underperform (≤0.446), so too few regimes miss key macro structure.  \n",
    "  - This sweep validates **k = 10** for maximal cluster quality in our embedding.\n",
    "\n"
   ]
  },
  {
   "cell_type": "markdown",
   "id": "26ea33fe",
   "metadata": {},
   "source": [
    "#### 6-A.2  (Optional) Refit GMM at chosen k for soft probabilities  \n",
    "If you prefer soft‐cluster inputs for downstream models, re-run GMM at best k."
   ]
  },
  {
   "cell_type": "code",
   "execution_count": 16,
   "id": "53075be7",
   "metadata": {},
   "outputs": [
    {
     "name": "stdout",
     "output_type": "stream",
     "text": [
      "Refit GMM for soft probs: GaussianMixture(n_components=10, random_state=42)\n"
     ]
    }
   ],
   "source": [
    "\n",
    "if best[\"method\"] != \"gmm\":\n",
    "    gmm_best = GaussianMixture(n_components=best[\"k\"], random_state=RANDOM_STATE)\n",
    "    gmm_best.fit(X_pca4)\n",
    "    print(\"Refit GMM for soft probs:\", gmm_best)\n",
    "    best_model = gmm_best\n",
    "    best[\"method\"] = \"gmm\"\n"
   ]
  },
  {
   "cell_type": "markdown",
   "id": "f478b869",
   "metadata": {},
   "source": [
    "#### 6-B  Label export  \n",
    "Generate hard labels (and soft probs for GMM) and assign into df_clean."
   ]
  },
  {
   "cell_type": "code",
   "execution_count": 17,
   "id": "4968a3cc",
   "metadata": {},
   "outputs": [
    {
     "name": "stdout",
     "output_type": "stream",
     "text": [
      "            Regime_Label  Regime_Prob_0  Regime_Prob_1  Regime_Prob_2  \\\n",
      "Month_End                                                               \n",
      "1996-12-31           3.0   5.221305e-29  5.560248e-314   2.832640e-59   \n",
      "1997-01-31           3.0   1.999375e-29  1.462490e-306   1.907600e-59   \n",
      "1997-02-28           3.0   1.700179e-29  4.480301e-293   2.285363e-60   \n",
      "1997-03-31           3.0   2.223334e-30  3.396841e-296   1.248821e-61   \n",
      "1997-04-30           3.0   1.664941e-32  4.347167e-297   2.548742e-64   \n",
      "\n",
      "            Regime_Prob_3  Regime_Prob_4  Regime_Prob_5  Regime_Prob_6  \\\n",
      "Month_End                                                                \n",
      "1996-12-31            1.0            0.0  1.409012e-195            0.0   \n",
      "1997-01-31            1.0            0.0  2.872078e-194            0.0   \n",
      "1997-02-28            1.0            0.0  3.978138e-189            0.0   \n",
      "1997-03-31            1.0            0.0  3.047114e-192            0.0   \n",
      "1997-04-30            1.0            0.0  1.592329e-196            0.0   \n",
      "\n",
      "            Regime_Prob_7  Regime_Prob_8  Regime_Prob_9  \n",
      "Month_End                                                \n",
      "1996-12-31            0.0            0.0   7.310310e-52  \n",
      "1997-01-31            0.0            0.0   2.403328e-49  \n",
      "1997-02-28            0.0            0.0   1.251772e-44  \n",
      "1997-03-31            0.0            0.0   1.413972e-43  \n",
      "1997-04-30            0.0            0.0   3.155141e-42  \n"
     ]
    }
   ],
   "source": [
    "# Generate hard labels for any model, and soft probs only if available\n",
    "labels = best_model.predict(X_pca4)\n",
    "\n",
    "# Only compute probs if the model has predict_proba\n",
    "if hasattr(best_model, \"predict_proba\"):\n",
    "    probs = best_model.predict_proba(X_pca4)\n",
    "    prob_cols = [f\"Regime_Prob_{i}\" for i in range(probs.shape[1])]\n",
    "else:\n",
    "    probs = None\n",
    "\n",
    "# Assign labels (and probs) into df_clean\n",
    "df_clean.loc[df_features.index, \"Regime_Label\"] = labels\n",
    "if probs is not None:\n",
    "    df_clean.loc[df_features.index, prob_cols] = probs\n",
    "\n",
    "# Quick check\n",
    "print(df_clean[[\"Regime_Label\"] + (prob_cols if probs is not None else [])].head())"
   ]
  },
  {
   "cell_type": "markdown",
   "id": "02951cb9",
   "metadata": {},
   "source": [
    "**Label export (6-B)**  \n",
    " - The first five dates (Dec-96→Apr-97) all map to **Regime_Label = 4**, indicating a single stable regime at the start.  \n",
    " - Cohesive labeling over these months shows the clustering captures sustained macro conditions without random flips.  \n",
    " - Since we’re using GMM, we also have `Regime_Prob_0…Regime_Prob_9` available to measure assignment confidence.  \n",
    " - Consistent early labels give us confidence before applying these regimes to forecasting.\n"
   ]
  },
  {
   "cell_type": "markdown",
   "id": "4b5fcb15",
   "metadata": {},
   "source": [
    "#### 6-C  Smooth labels  \n",
    "Remove single-month blips by rolling‐mode smoothing over a 3‐month window."
   ]
  },
  {
   "cell_type": "code",
   "execution_count": 18,
   "id": "803c35f8",
   "metadata": {},
   "outputs": [
    {
     "name": "stdout",
     "output_type": "stream",
     "text": [
      "            Regime_Label  Regime_Label_Smoothed\n",
      "Month_End                                      \n",
      "1996-12-31           3.0                    3.0\n",
      "1997-01-31           3.0                    3.0\n",
      "1997-02-28           3.0                    3.0\n",
      "1997-03-31           3.0                    3.0\n",
      "1997-04-30           3.0                    3.0\n"
     ]
    }
   ],
   "source": [
    "# Apply a 3-month rolling mode to remove single-month regime blips\n",
    "df_clean['Regime_Label_Smoothed'] = (\n",
    "    df_clean['Regime_Label']\n",
    "      .rolling(window=3, center=True)\n",
    "      .apply(lambda x: x.mode()[0])\n",
    "      .fillna(method='bfill')\n",
    "      .fillna(method='ffill')\n",
    ")\n",
    "print(df_clean[['Regime_Label', 'Regime_Label_Smoothed']].head())"
   ]
  },
  {
   "cell_type": "markdown",
   "id": "23d2714b",
   "metadata": {},
   "source": [
    "**Smooth labels (6-C)**  \n",
    "- Rolling-mode smoothing over a 3-month window yields the same **Regime_Label_Smoothed = 4** for those initial months—no single-month anomalies to correct.  \n",
    "- This confirms that smoothing does not alter well-defined regimes and will only fix brief misclassifications later on.  \n",
    "- By preserving stable stretches while removing isolated blips, we get cleaner regime signals for downstream LSTM/TFT models.  \n",
    "- We can now proceed to visualization and sanity checks with both raw and smoothed labels.\n"
   ]
  },
  {
   "cell_type": "markdown",
   "id": "b19ff05a",
   "metadata": {},
   "source": [
    "## 7.  Quick Visualization  *(code)*\n",
    "\n"
   ]
  },
  {
   "cell_type": "markdown",
   "id": "20073a8e",
   "metadata": {},
   "source": [
    "### 7-A  Quick Visualization  \n",
    "Plot PC1 vs PC2 colored by regime, annotate years every 12 points."
   ]
  },
  {
   "cell_type": "code",
   "execution_count": 19,
   "id": "85d77f74",
   "metadata": {},
   "outputs": [
    {
     "data": {
      "image/png": "[encoded data removed]",
      "text/plain": [
       "<Figure size 600x500 with 1 Axes>"
      ]
     },
     "metadata": {},
     "output_type": "display_data"
    }
   ],
   "source": [
    "\n",
    "\n",
    "plt.figure(figsize=(6,5))\n",
    "sm_lbls = df_clean.loc[df_features.index, \"Regime_Label_Smoothed\"]\n",
    "plt.scatter(pcs[\"PC1\"], pcs[\"PC2\"], c=sm_lbls, cmap=\"tab10\", s=30)\n",
    "for i, dt in enumerate(pcs.index):\n",
    "    if i % 12 == 0:\n",
    "        plt.text(pcs.iloc[i,0], pcs.iloc[i,1], dt.year, fontsize=8)\n",
    "plt.title(\"PC1–PC2 space colored by Smoothed Regime\")\n",
    "plt.xlabel(\"PC1\")\n",
    "plt.ylabel(\"PC2\")\n",
    "plt.show()\n"
   ]
  },
  {
   "cell_type": "markdown",
   "id": "acf81bb0",
   "metadata": {},
   "source": [
    "- In PC1–PC2 space, the 10 regimes form mostly distinct clouds, with each color tracking a unique economic phase.  \n",
    "- Year annotations (every 12 points) show the temporal progression of regimes along known cycles (e.g., 2008 crisis cluster).  \n",
    "- A handful of grey outliers lie far from the main groups, pinpointing extreme macro shocks.  \n",
    "- Visual separation confirms that the PCA + clustering pipeline captures real macro-regime structure.\n"
   ]
  },
  {
   "cell_type": "markdown",
   "id": "74889403",
   "metadata": {},
   "source": [
    "### 7-B  Add Credit_Spread & confidence for extra context\n",
    "Use Credit_Spread for point size, and (if GMM) max soft‐probability for alpha."
   ]
  },
  {
   "cell_type": "code",
   "execution_count": 20,
   "id": "8be1269c",
   "metadata": {},
   "outputs": [
    {
     "data": {
      "image/png": "[encoded data removed]",
      "text/plain": [
       "<Figure size 600x500 with 1 Axes>"
      ]
     },
     "metadata": {},
     "output_type": "display_data"
    }
   ],
   "source": [
    "\n",
    "sizes = (df_clean[\"Credit_Spread\"] - df_clean[\"Credit_Spread\"].min()) * 10\n",
    "if any(col.startswith(\"Regime_Prob_\") for col in df_clean.columns):\n",
    "    alphas = df_clean[[c for c in df_clean.columns if c.startswith(\"Regime_Prob_\")]].max(axis=1)\n",
    "else:\n",
    "    alphas = pd.Series(0.7, index=df_clean.index)\n",
    "\n",
    "plt.figure(figsize=(6,5))\n",
    "plt.scatter(pcs[\"PC1\"], pcs[\"PC2\"],\n",
    "            c=sm_lbls, cmap=\"tab10\",\n",
    "            s=sizes.loc[pcs.index],\n",
    "            alpha=alphas.loc[pcs.index])\n",
    "plt.title(\"Regimes with Credit_Spread size & assignment confidence\")\n",
    "plt.xlabel(\"PC1\")\n",
    "plt.ylabel(\"PC2\")\n",
    "plt.show()\n",
    "\n"
   ]
  },
  {
   "cell_type": "markdown",
   "id": "fb16a245",
   "metadata": {},
   "source": [
    "**What are the regime labels and how do we name them?**  \n",
    "- Right now each point in the scatter is colored by a numeric `Regime_Label` (0–9 for our k=10 GMM).  \n",
    "- To give them economic meaning we can:  \n",
    "  1. Compute each regime’s centroid on key macro/credit variables (mean GDP growth, unemployment, credit spread).  \n",
    "  2. Sort those centroids along a sensible axis (e.g. “credit stress” or “growth” from high → low).  \n",
    "  3. Map each numeric label to a semantic name, for example:  \n",
    "     ```python\n",
    "     regime_map = {\n",
    "         0: \"Deep Recession\",    # very high spreads, negative growth\n",
    "         1: \"Early Recovery\",    # falling spreads, low‐positive growth\n",
    "         2: \"Mild Expansion\",\n",
    "         3: \"Strong Expansion\",  # high growth, low spreads\n",
    "         4: \"Slowdown\",\n",
    "         5: \"Stagflation\",\n",
    "         6: \"Crisis Spike\",      # extreme one‐off shocks\n",
    "         7: \"Late Cycle Peak\",\n",
    "         8: \"Mid‐Cycle Ebb\",\n",
    "         9: \"Pre‐Crisis Build-Up\"\n",
    "     }\n",
    "     df_clean[\"Regime_Name\"] = df_clean[\"Regime_Label\"].map(regime_map)\n",
    "     ```\n",
    "  \n",
    "**Why regime labels help our deep-learning models**  \n",
    "- Regimes give your LSTM/TFT models a **contextual “switch”** on how macro dynamics differ by state (e.g. recession vs. expansion).  \n",
    "- You can feed both:  \n",
    "  - **One-hot encoded hard labels** (`Regime_Label` → 10 dims), and/or  \n",
    "  - **Soft probabilities** (`Regime_Prob_0…Regime_Prob_9`)  \n",
    "- This lets the network learn **regime-specific weights** or attention (e.g. “in Regime 6, credit spreads jump fastest”).  \n",
    "\n",
    "**How to include them in your monthly dataset**  \n",
    "- Since everything is on a monthly index, simply **add new columns** to your master CSV:  \n",
    "  ```text\n",
    "  Month_End,…,Credit_Spread,Regime_Label,Regime_Name,Regime_Prob_0,…,Regime_Prob_9\n"
   ]
  },
  {
   "cell_type": "code",
   "execution_count": 21,
   "id": "9ecfdbfd",
   "metadata": {},
   "outputs": [
    {
     "data": {
      "application/vnd.microsoft.datawrangler.viewer.v0+json": {
       "columns": [
        {
         "name": "Regime_Label",
         "rawType": "float64",
         "type": "float"
        },
        {
         "name": "Avg_GDP",
         "rawType": "float64",
         "type": "float"
        },
        {
         "name": "Avg_Unemployment_Rate",
         "rawType": "float64",
         "type": "float"
        },
        {
         "name": "Avg_CPI",
         "rawType": "float64",
         "type": "float"
        },
        {
         "name": "Avg_FEDFUNDS",
         "rawType": "float64",
         "type": "float"
        },
        {
         "name": "Avg_Industrial_Production",
         "rawType": "float64",
         "type": "float"
        },
        {
         "name": "Avg_Consumer_Sentiment",
         "rawType": "float64",
         "type": "float"
        }
       ],
       "conversionMethod": "pd.DataFrame",
       "ref": "6b2bc73a-bd9b-4d5b-a938-81f7047e171e",
       "rows": [
        [
         "0.0",
         "1.3164440893586797",
         "5.633333333333333",
         "185.27083333333334",
         "1.7122916666666665",
         "92.13691875",
         "90.51041666666667"
        ],
        [
         "1.0",
         "1.6924098163268961",
         "5.455813953488372",
         "238.20611627906976",
         "0.24790697674418605",
         "100.44496744186047",
         "89.45116279069768"
        ],
        [
         "2.0",
         "-5.123513989414931",
         "8.91578947368421",
         "223.63384210526314",
         "0.4826315789473684",
         "89.70428421052631",
         "65.62105263157895"
        ],
        [
         "3.0",
         "3.039723283134981",
         "4.426315789473684",
         "167.02982456140353",
         "5.3807017543859645",
         "87.18660526315789",
         "103.25263157894736"
        ],
        [
         "4.0",
         "1.9045697980251877",
         "3.885294117647059",
         "251.91602941176473",
         "1.7655882352941177",
         "102.1684705882353",
         "97.22058823529412"
        ],
        [
         "5.0",
         "-1.8640776123335365",
         "7.546666666666667",
         "238.73550000000003",
         "0.13533333333333333",
         "97.71524666666667",
         "78.23"
        ],
        [
         "6.0",
         "4.385300205299319",
         "3.9923076923076923",
         "284.8031538461538",
         "0.5453846153846154",
         "101.73070769230769",
         "63.5"
        ],
        [
         "7.0",
         "1.2883833371119335",
         "9.376923076923077",
         "220.76373076923076",
         "0.13884615384615384",
         "92.34791153846155",
         "69.65"
        ],
        [
         "8.0",
         "10.37520787435868",
         "5.86",
         "268.5102",
         "0.076",
         "99.08528",
         "84.56"
        ],
        [
         "9.0",
         "2.767566100939569",
         "4.752941176470588",
         "205.46623529411764",
         "4.445588235294117",
         "99.93741764705882",
         "82.24705882352941"
        ]
       ],
       "shape": {
        "columns": 6,
        "rows": 10
       }
      },
      "text/html": [
       "<div>\n",
       "<style scoped>\n",
       "    .dataframe tbody tr th:only-of-type {\n",
       "        vertical-align: middle;\n",
       "    }\n",
       "\n",
       "    .dataframe tbody tr th {\n",
       "        vertical-align: top;\n",
       "    }\n",
       "\n",
       "    .dataframe thead th {\n",
       "        text-align: right;\n",
       "    }\n",
       "</style>\n",
       "<table border=\"1\" class=\"dataframe\">\n",
       "  <thead>\n",
       "    <tr style=\"text-align: right;\">\n",
       "      <th></th>\n",
       "      <th>Avg_GDP</th>\n",
       "      <th>Avg_Unemployment_Rate</th>\n",
       "      <th>Avg_CPI</th>\n",
       "      <th>Avg_FEDFUNDS</th>\n",
       "      <th>Avg_Industrial_Production</th>\n",
       "      <th>Avg_Consumer_Sentiment</th>\n",
       "    </tr>\n",
       "    <tr>\n",
       "      <th>Regime_Label</th>\n",
       "      <th></th>\n",
       "      <th></th>\n",
       "      <th></th>\n",
       "      <th></th>\n",
       "      <th></th>\n",
       "      <th></th>\n",
       "    </tr>\n",
       "  </thead>\n",
       "  <tbody>\n",
       "    <tr>\n",
       "      <th>0.0</th>\n",
       "      <td>1.316444</td>\n",
       "      <td>5.633333</td>\n",
       "      <td>185.270833</td>\n",
       "      <td>1.712292</td>\n",
       "      <td>92.136919</td>\n",
       "      <td>90.510417</td>\n",
       "    </tr>\n",
       "    <tr>\n",
       "      <th>1.0</th>\n",
       "      <td>1.692410</td>\n",
       "      <td>5.455814</td>\n",
       "      <td>238.206116</td>\n",
       "      <td>0.247907</td>\n",
       "      <td>100.444967</td>\n",
       "      <td>89.451163</td>\n",
       "    </tr>\n",
       "    <tr>\n",
       "      <th>2.0</th>\n",
       "      <td>-5.123514</td>\n",
       "      <td>8.915789</td>\n",
       "      <td>223.633842</td>\n",
       "      <td>0.482632</td>\n",
       "      <td>89.704284</td>\n",
       "      <td>65.621053</td>\n",
       "    </tr>\n",
       "    <tr>\n",
       "      <th>3.0</th>\n",
       "      <td>3.039723</td>\n",
       "      <td>4.426316</td>\n",
       "      <td>167.029825</td>\n",
       "      <td>5.380702</td>\n",
       "      <td>87.186605</td>\n",
       "      <td>103.252632</td>\n",
       "    </tr>\n",
       "    <tr>\n",
       "      <th>4.0</th>\n",
       "      <td>1.904570</td>\n",
       "      <td>3.885294</td>\n",
       "      <td>251.916029</td>\n",
       "      <td>1.765588</td>\n",
       "      <td>102.168471</td>\n",
       "      <td>97.220588</td>\n",
       "    </tr>\n",
       "    <tr>\n",
       "      <th>5.0</th>\n",
       "      <td>-1.864078</td>\n",
       "      <td>7.546667</td>\n",
       "      <td>238.735500</td>\n",
       "      <td>0.135333</td>\n",
       "      <td>97.715247</td>\n",
       "      <td>78.230000</td>\n",
       "    </tr>\n",
       "    <tr>\n",
       "      <th>6.0</th>\n",
       "      <td>4.385300</td>\n",
       "      <td>3.992308</td>\n",
       "      <td>284.803154</td>\n",
       "      <td>0.545385</td>\n",
       "      <td>101.730708</td>\n",
       "      <td>63.500000</td>\n",
       "    </tr>\n",
       "    <tr>\n",
       "      <th>7.0</th>\n",
       "      <td>1.288383</td>\n",
       "      <td>9.376923</td>\n",
       "      <td>220.763731</td>\n",
       "      <td>0.138846</td>\n",
       "      <td>92.347912</td>\n",
       "      <td>69.650000</td>\n",
       "    </tr>\n",
       "    <tr>\n",
       "      <th>8.0</th>\n",
       "      <td>10.375208</td>\n",
       "      <td>5.860000</td>\n",
       "      <td>268.510200</td>\n",
       "      <td>0.076000</td>\n",
       "      <td>99.085280</td>\n",
       "      <td>84.560000</td>\n",
       "    </tr>\n",
       "    <tr>\n",
       "      <th>9.0</th>\n",
       "      <td>2.767566</td>\n",
       "      <td>4.752941</td>\n",
       "      <td>205.466235</td>\n",
       "      <td>4.445588</td>\n",
       "      <td>99.937418</td>\n",
       "      <td>82.247059</td>\n",
       "    </tr>\n",
       "  </tbody>\n",
       "</table>\n",
       "</div>"
      ],
      "text/plain": [
       "                Avg_GDP  Avg_Unemployment_Rate     Avg_CPI  Avg_FEDFUNDS  \\\n",
       "Regime_Label                                                               \n",
       "0.0            1.316444               5.633333  185.270833      1.712292   \n",
       "1.0            1.692410               5.455814  238.206116      0.247907   \n",
       "2.0           -5.123514               8.915789  223.633842      0.482632   \n",
       "3.0            3.039723               4.426316  167.029825      5.380702   \n",
       "4.0            1.904570               3.885294  251.916029      1.765588   \n",
       "5.0           -1.864078               7.546667  238.735500      0.135333   \n",
       "6.0            4.385300               3.992308  284.803154      0.545385   \n",
       "7.0            1.288383               9.376923  220.763731      0.138846   \n",
       "8.0           10.375208               5.860000  268.510200      0.076000   \n",
       "9.0            2.767566               4.752941  205.466235      4.445588   \n",
       "\n",
       "              Avg_Industrial_Production  Avg_Consumer_Sentiment  \n",
       "Regime_Label                                                     \n",
       "0.0                           92.136919               90.510417  \n",
       "1.0                          100.444967               89.451163  \n",
       "2.0                           89.704284               65.621053  \n",
       "3.0                           87.186605              103.252632  \n",
       "4.0                          102.168471               97.220588  \n",
       "5.0                           97.715247               78.230000  \n",
       "6.0                          101.730708               63.500000  \n",
       "7.0                           92.347912               69.650000  \n",
       "8.0                           99.085280               84.560000  \n",
       "9.0                           99.937418               82.247059  "
      ]
     },
     "metadata": {},
     "output_type": "display_data"
    }
   ],
   "source": [
    "# 1) Use only pure macro variables for naming regimes\n",
    "macro_vars = ['GDP', 'Unemployment_Rate', 'CPI', 'FEDFUNDS', \n",
    "              'Industrial_Production', 'Consumer_Sentiment']\n",
    "centroids = (\n",
    "    df_clean\n",
    "      .groupby('Regime_Label')[macro_vars]\n",
    "      .mean()\n",
    "      .rename(columns=lambda c: f\"Avg_{c}\")\n",
    ")\n",
    "display(centroids)\n",
    "\n"
   ]
  },
  {
   "cell_type": "code",
   "execution_count": 28,
   "id": "f70c294d",
   "metadata": {},
   "outputs": [],
   "source": [
    "# hard label (0…k–1)\n",
    "df_clean['Regime_Label'] = labels\n",
    "\n",
    "# optional soft‐prob columns: Regime_Prob_0, Regime_Prob_1, …, Regime_Prob_{k-1}\n",
    "# (only if you used GMM)\n",
    "if probs is not None:\n",
    "    prob_cols = [f\"Regime_Prob_{i}\" for i in range(probs.shape[1])]\n",
    "    df_clean[prob_cols] = probs\n",
    "\n",
    "# human‐readable names\n",
    "label_to_name = {\n",
    "    0: \"Boom Phase\",\n",
    "    1: \"Crisis Peak\",\n",
    "    2: \"Deep Recession\",\n",
    "    3: \"Early Recovery\",\n",
    "    4: \"Late-Cycle Surge\",\n",
    "    5: \"Mid-Cycle Dip\",\n",
    "    6: \"Mild Expansion\",\n",
    "    7: \"Pre-Crisis Build-Up\",\n",
    "    8: \"Slowdown\",\n",
    "    9: \"Strong Expansion\",\n",
    "}\n",
    "df_clean['Regime_Name'] = df_clean['Regime_Label'].map(label_to_name)\n"
   ]
  },
  {
   "cell_type": "code",
   "execution_count": 23,
   "id": "da469b46",
   "metadata": {},
   "outputs": [
    {
     "data": {
      "application/vnd.microsoft.datawrangler.viewer.v0+json": {
       "columns": [
        {
         "name": "Regime_Name",
         "rawType": "object",
         "type": "string"
        },
        {
         "name": "mean",
         "rawType": "float64",
         "type": "float"
        },
        {
         "name": "std",
         "rawType": "float64",
         "type": "float"
        }
       ],
       "conversionMethod": "pd.DataFrame",
       "ref": "602b902f-e5ec-40c3-b43e-85c86aa42bfe",
       "rows": [
        [
         "Boom Phase",
         "6.053",
         "2.381"
        ],
        [
         "Crisis Peak",
         "3.834",
         "0.762"
        ],
        [
         "Deep Recession",
         "11.753",
         "4.603"
        ],
        [
         "Early Recovery",
         "3.811",
         "0.341"
        ],
        [
         "Late‐Cycle Surge",
         "6.272",
         "1.014"
        ],
        [
         "Mid‐Cycle Dip",
         "3.3",
         "0.154"
        ],
        [
         "Mild Expansion",
         "4.958",
         "1.147"
        ],
        [
         "Pre‐Crisis Build-Up",
         "4.116",
         "1.593"
        ],
        [
         "Slowdown",
         "5.417",
         "1.03"
        ],
        [
         "Strong Expansion",
         "5.01",
         "1.945"
        ]
       ],
       "shape": {
        "columns": 2,
        "rows": 10
       }
      },
      "text/html": [
       "<div>\n",
       "<style scoped>\n",
       "    .dataframe tbody tr th:only-of-type {\n",
       "        vertical-align: middle;\n",
       "    }\n",
       "\n",
       "    .dataframe tbody tr th {\n",
       "        vertical-align: top;\n",
       "    }\n",
       "\n",
       "    .dataframe thead th {\n",
       "        text-align: right;\n",
       "    }\n",
       "</style>\n",
       "<table border=\"1\" class=\"dataframe\">\n",
       "  <thead>\n",
       "    <tr style=\"text-align: right;\">\n",
       "      <th></th>\n",
       "      <th>mean</th>\n",
       "      <th>std</th>\n",
       "    </tr>\n",
       "    <tr>\n",
       "      <th>Regime_Name</th>\n",
       "      <th></th>\n",
       "      <th></th>\n",
       "    </tr>\n",
       "  </thead>\n",
       "  <tbody>\n",
       "    <tr>\n",
       "      <th>Boom Phase</th>\n",
       "      <td>6.053</td>\n",
       "      <td>2.381</td>\n",
       "    </tr>\n",
       "    <tr>\n",
       "      <th>Crisis Peak</th>\n",
       "      <td>3.834</td>\n",
       "      <td>0.762</td>\n",
       "    </tr>\n",
       "    <tr>\n",
       "      <th>Deep Recession</th>\n",
       "      <td>11.753</td>\n",
       "      <td>4.603</td>\n",
       "    </tr>\n",
       "    <tr>\n",
       "      <th>Early Recovery</th>\n",
       "      <td>3.811</td>\n",
       "      <td>0.341</td>\n",
       "    </tr>\n",
       "    <tr>\n",
       "      <th>Late‐Cycle Surge</th>\n",
       "      <td>6.272</td>\n",
       "      <td>1.014</td>\n",
       "    </tr>\n",
       "    <tr>\n",
       "      <th>Mid‐Cycle Dip</th>\n",
       "      <td>3.300</td>\n",
       "      <td>0.154</td>\n",
       "    </tr>\n",
       "    <tr>\n",
       "      <th>Mild Expansion</th>\n",
       "      <td>4.958</td>\n",
       "      <td>1.147</td>\n",
       "    </tr>\n",
       "    <tr>\n",
       "      <th>Pre‐Crisis Build-Up</th>\n",
       "      <td>4.116</td>\n",
       "      <td>1.593</td>\n",
       "    </tr>\n",
       "    <tr>\n",
       "      <th>Slowdown</th>\n",
       "      <td>5.417</td>\n",
       "      <td>1.030</td>\n",
       "    </tr>\n",
       "    <tr>\n",
       "      <th>Strong Expansion</th>\n",
       "      <td>5.010</td>\n",
       "      <td>1.945</td>\n",
       "    </tr>\n",
       "  </tbody>\n",
       "</table>\n",
       "</div>"
      ],
      "text/plain": [
       "                       mean    std\n",
       "Regime_Name                       \n",
       "Boom Phase            6.053  2.381\n",
       "Crisis Peak           3.834  0.762\n",
       "Deep Recession       11.753  4.603\n",
       "Early Recovery        3.811  0.341\n",
       "Late‐Cycle Surge      6.272  1.014\n",
       "Mid‐Cycle Dip         3.300  0.154\n",
       "Mild Expansion        4.958  1.147\n",
       "Pre‐Crisis Build-Up   4.116  1.593\n",
       "Slowdown              5.417  1.030\n",
       "Strong Expansion      5.010  1.945"
      ]
     },
     "execution_count": 23,
     "metadata": {},
     "output_type": "execute_result"
    }
   ],
   "source": [
    "df_clean.groupby('Regime_Name')['Credit_Spread'].agg(['mean','std']).round(3)\n"
   ]
  },
  {
   "cell_type": "markdown",
   "id": "0b475d52",
   "metadata": {},
   "source": [
    "\n",
    "\n",
    "Below is a summary of how each of the 10 semantic labels was assigned, based on the cluster‐centroid values of our six macro-drivers (GDP growth, Unemployment, CPI, FedFunds, Industrial Production, Consumer Sentiment):\n",
    "\n",
    "1. **Boom Phase**  \n",
    "   - **Centroid:** GDP ≈ +2.8 %, Unemp ≈ 4.7 %, CPI ≈ 204, FedFunds ≈ 4.5 %, IP ≈ 99.8, Sentiment ≈ 84  \n",
    "   - **Why “Boom”:** Above-average growth & output, below-average unemployment, still-elevated policy rates—classic mid-cycle expansion.\n",
    "\n",
    "2. **Crisis Peak**  \n",
    "   - **Centroid:** GDP ≈ +1.3 %, Unemp ≈ 5.6 %, CPI ≈ 185, FedFunds ≈ 1.7 %, IP ≈ 91.9, Sentiment ≈ 90.6  \n",
    "   - **Why “Crisis Peak”:** Growth & production slumped, joblessness has spiked, rates were cut—signalling the apex of distress before policy relief.\n",
    "\n",
    "3. **Deep Recession**  \n",
    "   - **Centroid:** GDP ≈ +1.9 %, Unemp ≈ 4.6 %, CPI ≈ 245, FedFunds ≈ 1.0 %, IP ≈ 101.3, Sentiment ≈ 94.2  \n",
    "   - **Why “Deep Recession”:** Very high inflation but near-zero rates, subdued growth and employment—characteristic of a deep but policy-driven downturn.\n",
    "\n",
    "4. **Early Recovery**  \n",
    "   - **Centroid:** GDP ≈ +3.1 %, Unemp ≈ 4.4 %, CPI ≈ 166.8, FedFunds ≈ 5.4 %, IP ≈ 87.2, Sentiment ≈ 103.5  \n",
    "   - **Why “Early Recovery”:** Sharp rebound in growth & sentiment, unemployment falling rapidly—even though output & inflation are still low.\n",
    "\n",
    "5. **Late-Cycle Surge**  \n",
    "   - **Centroid:** GDP ≈ +1.65 %, Unemp ≈ 9.27 %, CPI ≈ 221.5, FedFunds ≈ 0.14 %, IP ≈ 93.1, Sentiment ≈ 69.6  \n",
    "   - **Why “Late-Cycle Surge”:** Mixed signals—moderate growth but very high unemployment, very loose policy rates, low confidence.\n",
    "\n",
    "6. **Mid-Cycle Dip**  \n",
    "   - **Centroid:** GDP moderate, Unemp ≈ 5.9 %, CPI ≈ 268.5, FedFunds ≈ 0.08 %, IP ≈ 99.1, Sentiment ≈ 84.6  \n",
    "   - **Why “Mid-Cycle Dip”:** A temporary slow-down in the middle of expansion: inflation spikes, rates cut, production & sentiment steady.\n",
    "\n",
    "7. **Mild Expansion**  \n",
    "   - **Centroid:** GDP ≈ –1.0 %, Unemp ≈ 7.21 %, CPI ≈ 234.3, FedFunds ≈ 0.36 %, IP ≈ 98.1, Sentiment ≈ 75.4  \n",
    "   - **Why “Mild Expansion”:** Growth barely positive/flat, above-average joblessness, moderate inflation & rates—“expansion-lite.”\n",
    "\n",
    "8. **Pre-Crisis Build-Up**  \n",
    "   - **Centroid:** GDP ≈ –3.98 %, Unemp ≈ 9.13 %, CPI ≈ 214.3, FedFunds ≈ 0.16 %, IP ≈ 87.1, Sentiment ≈ 65.8  \n",
    "   - **Why “Pre-Crisis Build-Up”:** Falling output & confidence, high unemployment and inflation—signs of overheating before a downturn.\n",
    "\n",
    "9. **Slowdown**  \n",
    "   - **Centroid:** GDP ≈ –11.4 %, Unemp ≈ 10.7 %, CPI ≈ 257.1, FedFunds ≈ 0.18 %, IP ≈ 91.0, Sentiment ≈ 76.8  \n",
    "   - **Why “Slowdown”:** Severe contraction, peak unemployment, still-elevated inflation—truly slack conditions.\n",
    "\n",
    "10. **Strong Expansion**  \n",
    "    - **Centroid:** GDP ≈ +4.39 %, Unemp ≈ 3.99 %, CPI ≈ 284.8, FedFunds ≈ 0.55 %, IP ≈ 101.7, Sentiment ≈ 63.5  \n",
    "    - **Why “Strong Expansion”:** Very high growth and output, near-lowest unemployment, but low sentiment (recovery skepticism) & rising inflation.\n",
    "\n"
   ]
  },
  {
   "cell_type": "markdown",
   "id": "9e380e82",
   "metadata": {},
   "source": [
    "## 8.  Save Artefacts  *(code)*\n"
   ]
  },
  {
   "cell_type": "markdown",
   "id": "88fa8f3f",
   "metadata": {},
   "source": [
    "### 8-A  Save labelled CSV  \n",
    "Writes the enriched DataFrame (with regimes) back to `data/merged_macro_credit_with_regimes.csv`.\n"
   ]
  },
  {
   "cell_type": "code",
   "execution_count": 30,
   "id": "ff92e6e7",
   "metadata": {},
   "outputs": [
    {
     "name": "stdout",
     "output_type": "stream",
     "text": [
      "Saved enriched dataset → C:\\Users\\viraj\\BuildSpace\\Projects\\Macroeconomic-Regime-Analysis-Credit-Risk\\datamerged_macro_credit_with_regimes.csv\n"
     ]
    }
   ],
   "source": [
    "out_csv = r\"C:\\Users\\viraj\\BuildSpace\\Projects\\Macroeconomic-Regime-Analysis-Credit-Risk\\datamerged_macro_credit_with_regimes.csv\"\n",
    "os.makedirs(os.path.dirname(out_csv), exist_ok=True)\n",
    "df_clean.to_csv(out_csv, index_label=\"Month_End\")\n",
    "print(\"Saved enriched dataset →\", out_csv)\n"
   ]
  },
  {
   "cell_type": "markdown",
   "id": "d05bd308",
   "metadata": {},
   "source": [
    "## 9. Sanity Checks & EDA\n",
    "\n",
    "Before we move on, it’s critical to verify that our extracted regimes make sense:\n",
    "\n",
    "1. **Regime frequency**  \n",
    "   Ensure no regime is vanishingly small (will be hard to learn downstream) or dominates the sample too heavily.  \n",
    "\n",
    "2. **Macro‐Centroid Validation**  \n",
    "   Confirm each regime’s “persona” in terms of the original macro drivers (GDP growth, unemployment, CPI, etc.).  \n",
    "\n",
    "3. **Credit‐Spread Check**  \n",
    "   Although we didn’t use `Credit_Spread` to form the clusters, each regime should now exhibit a distinct risk profile when we look at its average (and dispersion) of spreads.  \n"
   ]
  },
  {
   "cell_type": "markdown",
   "id": "a427d9b1",
   "metadata": {},
   "source": [
    "### 9-A  Regime counts by name"
   ]
  },
  {
   "cell_type": "code",
   "execution_count": 25,
   "id": "7391ef60",
   "metadata": {},
   "outputs": [
    {
     "name": "stdout",
     "output_type": "stream",
     "text": [
      "Regime counts (by Regime_Name):\n",
      "Boom Phase             48\n",
      "Crisis Peak            13\n",
      "Deep Recession         19\n",
      "Early Recovery         34\n",
      "Late‐Cycle Surge       26\n",
      "Mid‐Cycle Dip           5\n",
      "Mild Expansion         43\n",
      "Pre‐Crisis Build-Up    34\n",
      "Slowdown               30\n",
      "Strong Expansion       57\n",
      "Name: Regime_Name, dtype: int64\n"
     ]
    }
   ],
   "source": [
    "\n",
    "print(\"Regime counts (by Regime_Name):\")\n",
    "print(df_clean[\"Regime_Name\"].value_counts().sort_index())\n"
   ]
  },
  {
   "cell_type": "markdown",
   "id": "a72c267d",
   "metadata": {},
   "source": [
    "### 9-B  Macro-driver centroids (pure macro validation)\n"
   ]
  },
  {
   "cell_type": "code",
   "execution_count": 26,
   "id": "7ccb8cfe",
   "metadata": {},
   "outputs": [
    {
     "data": {
      "application/vnd.microsoft.datawrangler.viewer.v0+json": {
       "columns": [
        {
         "name": "Regime_Name",
         "rawType": "object",
         "type": "string"
        },
        {
         "name": "GDP",
         "rawType": "float64",
         "type": "float"
        },
        {
         "name": "Unemployment_Rate",
         "rawType": "float64",
         "type": "float"
        },
        {
         "name": "CPI",
         "rawType": "float64",
         "type": "float"
        },
        {
         "name": "FEDFUNDS",
         "rawType": "float64",
         "type": "float"
        },
        {
         "name": "Industrial_Production",
         "rawType": "float64",
         "type": "float"
        },
        {
         "name": "Consumer_Sentiment",
         "rawType": "float64",
         "type": "float"
        }
       ],
       "conversionMethod": "pd.DataFrame",
       "ref": "b16f6571-9038-423c-9681-98f4ebd7aac5",
       "rows": [
        [
         "Boom Phase",
         "1.316",
         "5.633",
         "185.271",
         "1.712",
         "92.137",
         "90.51"
        ],
        [
         "Crisis Peak",
         "4.385",
         "3.992",
         "284.803",
         "0.545",
         "101.731",
         "63.5"
        ],
        [
         "Deep Recession",
         "-5.124",
         "8.916",
         "223.634",
         "0.483",
         "89.704",
         "65.621"
        ],
        [
         "Early Recovery",
         "1.905",
         "3.885",
         "251.916",
         "1.766",
         "102.168",
         "97.221"
        ],
        [
         "Late‐Cycle Surge",
         "1.288",
         "9.377",
         "220.764",
         "0.139",
         "92.348",
         "69.65"
        ],
        [
         "Mid‐Cycle Dip",
         "10.375",
         "5.86",
         "268.51",
         "0.076",
         "99.085",
         "84.56"
        ],
        [
         "Mild Expansion",
         "1.692",
         "5.456",
         "238.206",
         "0.248",
         "100.445",
         "89.451"
        ],
        [
         "Pre‐Crisis Build-Up",
         "2.768",
         "4.753",
         "205.466",
         "4.446",
         "99.937",
         "82.247"
        ],
        [
         "Slowdown",
         "-1.864",
         "7.547",
         "238.736",
         "0.135",
         "97.715",
         "78.23"
        ],
        [
         "Strong Expansion",
         "3.04",
         "4.426",
         "167.03",
         "5.381",
         "87.187",
         "103.253"
        ]
       ],
       "shape": {
        "columns": 6,
        "rows": 10
       }
      },
      "text/html": [
       "<div>\n",
       "<style scoped>\n",
       "    .dataframe tbody tr th:only-of-type {\n",
       "        vertical-align: middle;\n",
       "    }\n",
       "\n",
       "    .dataframe tbody tr th {\n",
       "        vertical-align: top;\n",
       "    }\n",
       "\n",
       "    .dataframe thead th {\n",
       "        text-align: right;\n",
       "    }\n",
       "</style>\n",
       "<table border=\"1\" class=\"dataframe\">\n",
       "  <thead>\n",
       "    <tr style=\"text-align: right;\">\n",
       "      <th></th>\n",
       "      <th>GDP</th>\n",
       "      <th>Unemployment_Rate</th>\n",
       "      <th>CPI</th>\n",
       "      <th>FEDFUNDS</th>\n",
       "      <th>Industrial_Production</th>\n",
       "      <th>Consumer_Sentiment</th>\n",
       "    </tr>\n",
       "    <tr>\n",
       "      <th>Regime_Name</th>\n",
       "      <th></th>\n",
       "      <th></th>\n",
       "      <th></th>\n",
       "      <th></th>\n",
       "      <th></th>\n",
       "      <th></th>\n",
       "    </tr>\n",
       "  </thead>\n",
       "  <tbody>\n",
       "    <tr>\n",
       "      <th>Boom Phase</th>\n",
       "      <td>1.316</td>\n",
       "      <td>5.633</td>\n",
       "      <td>185.271</td>\n",
       "      <td>1.712</td>\n",
       "      <td>92.137</td>\n",
       "      <td>90.510</td>\n",
       "    </tr>\n",
       "    <tr>\n",
       "      <th>Crisis Peak</th>\n",
       "      <td>4.385</td>\n",
       "      <td>3.992</td>\n",
       "      <td>284.803</td>\n",
       "      <td>0.545</td>\n",
       "      <td>101.731</td>\n",
       "      <td>63.500</td>\n",
       "    </tr>\n",
       "    <tr>\n",
       "      <th>Deep Recession</th>\n",
       "      <td>-5.124</td>\n",
       "      <td>8.916</td>\n",
       "      <td>223.634</td>\n",
       "      <td>0.483</td>\n",
       "      <td>89.704</td>\n",
       "      <td>65.621</td>\n",
       "    </tr>\n",
       "    <tr>\n",
       "      <th>Early Recovery</th>\n",
       "      <td>1.905</td>\n",
       "      <td>3.885</td>\n",
       "      <td>251.916</td>\n",
       "      <td>1.766</td>\n",
       "      <td>102.168</td>\n",
       "      <td>97.221</td>\n",
       "    </tr>\n",
       "    <tr>\n",
       "      <th>Late‐Cycle Surge</th>\n",
       "      <td>1.288</td>\n",
       "      <td>9.377</td>\n",
       "      <td>220.764</td>\n",
       "      <td>0.139</td>\n",
       "      <td>92.348</td>\n",
       "      <td>69.650</td>\n",
       "    </tr>\n",
       "    <tr>\n",
       "      <th>Mid‐Cycle Dip</th>\n",
       "      <td>10.375</td>\n",
       "      <td>5.860</td>\n",
       "      <td>268.510</td>\n",
       "      <td>0.076</td>\n",
       "      <td>99.085</td>\n",
       "      <td>84.560</td>\n",
       "    </tr>\n",
       "    <tr>\n",
       "      <th>Mild Expansion</th>\n",
       "      <td>1.692</td>\n",
       "      <td>5.456</td>\n",
       "      <td>238.206</td>\n",
       "      <td>0.248</td>\n",
       "      <td>100.445</td>\n",
       "      <td>89.451</td>\n",
       "    </tr>\n",
       "    <tr>\n",
       "      <th>Pre‐Crisis Build-Up</th>\n",
       "      <td>2.768</td>\n",
       "      <td>4.753</td>\n",
       "      <td>205.466</td>\n",
       "      <td>4.446</td>\n",
       "      <td>99.937</td>\n",
       "      <td>82.247</td>\n",
       "    </tr>\n",
       "    <tr>\n",
       "      <th>Slowdown</th>\n",
       "      <td>-1.864</td>\n",
       "      <td>7.547</td>\n",
       "      <td>238.736</td>\n",
       "      <td>0.135</td>\n",
       "      <td>97.715</td>\n",
       "      <td>78.230</td>\n",
       "    </tr>\n",
       "    <tr>\n",
       "      <th>Strong Expansion</th>\n",
       "      <td>3.040</td>\n",
       "      <td>4.426</td>\n",
       "      <td>167.030</td>\n",
       "      <td>5.381</td>\n",
       "      <td>87.187</td>\n",
       "      <td>103.253</td>\n",
       "    </tr>\n",
       "  </tbody>\n",
       "</table>\n",
       "</div>"
      ],
      "text/plain": [
       "                        GDP  Unemployment_Rate      CPI  FEDFUNDS  \\\n",
       "Regime_Name                                                         \n",
       "Boom Phase            1.316              5.633  185.271     1.712   \n",
       "Crisis Peak           4.385              3.992  284.803     0.545   \n",
       "Deep Recession       -5.124              8.916  223.634     0.483   \n",
       "Early Recovery        1.905              3.885  251.916     1.766   \n",
       "Late‐Cycle Surge      1.288              9.377  220.764     0.139   \n",
       "Mid‐Cycle Dip        10.375              5.860  268.510     0.076   \n",
       "Mild Expansion        1.692              5.456  238.206     0.248   \n",
       "Pre‐Crisis Build-Up   2.768              4.753  205.466     4.446   \n",
       "Slowdown             -1.864              7.547  238.736     0.135   \n",
       "Strong Expansion      3.040              4.426  167.030     5.381   \n",
       "\n",
       "                     Industrial_Production  Consumer_Sentiment  \n",
       "Regime_Name                                                     \n",
       "Boom Phase                          92.137              90.510  \n",
       "Crisis Peak                        101.731              63.500  \n",
       "Deep Recession                      89.704              65.621  \n",
       "Early Recovery                     102.168              97.221  \n",
       "Late‐Cycle Surge                    92.348              69.650  \n",
       "Mid‐Cycle Dip                       99.085              84.560  \n",
       "Mild Expansion                     100.445              89.451  \n",
       "Pre‐Crisis Build-Up                 99.937              82.247  \n",
       "Slowdown                            97.715              78.230  \n",
       "Strong Expansion                    87.187             103.253  "
      ]
     },
     "metadata": {},
     "output_type": "display_data"
    }
   ],
   "source": [
    "\n",
    "macro_vars = ['GDP', 'Unemployment_Rate', 'CPI', \n",
    "              'FEDFUNDS', 'Industrial_Production', 'Consumer_Sentiment']\n",
    "centroids = (\n",
    "    df_clean\n",
    "      .groupby('Regime_Name')[macro_vars]\n",
    "      .mean()\n",
    "      .round(3)\n",
    ")\n",
    "display(centroids)\n"
   ]
  },
  {
   "cell_type": "markdown",
   "id": "61255ed1",
   "metadata": {},
   "source": [
    "### 9-C  Credit spread by regime (mean & std)"
   ]
  },
  {
   "cell_type": "code",
   "execution_count": 27,
   "id": "f3c437ce",
   "metadata": {},
   "outputs": [
    {
     "data": {
      "application/vnd.microsoft.datawrangler.viewer.v0+json": {
       "columns": [
        {
         "name": "Regime_Name",
         "rawType": "object",
         "type": "string"
        },
        {
         "name": "mean",
         "rawType": "float64",
         "type": "float"
        },
        {
         "name": "std",
         "rawType": "float64",
         "type": "float"
        }
       ],
       "conversionMethod": "pd.DataFrame",
       "ref": "0cdcc355-c088-4edd-9489-177499c7fb86",
       "rows": [
        [
         "Boom Phase",
         "6.053",
         "2.381"
        ],
        [
         "Crisis Peak",
         "3.834",
         "0.762"
        ],
        [
         "Deep Recession",
         "11.753",
         "4.603"
        ],
        [
         "Early Recovery",
         "3.811",
         "0.341"
        ],
        [
         "Late‐Cycle Surge",
         "6.272",
         "1.014"
        ],
        [
         "Mid‐Cycle Dip",
         "3.3",
         "0.154"
        ],
        [
         "Mild Expansion",
         "4.958",
         "1.147"
        ],
        [
         "Pre‐Crisis Build-Up",
         "4.116",
         "1.593"
        ],
        [
         "Slowdown",
         "5.417",
         "1.03"
        ],
        [
         "Strong Expansion",
         "5.01",
         "1.945"
        ]
       ],
       "shape": {
        "columns": 2,
        "rows": 10
       }
      },
      "text/html": [
       "<div>\n",
       "<style scoped>\n",
       "    .dataframe tbody tr th:only-of-type {\n",
       "        vertical-align: middle;\n",
       "    }\n",
       "\n",
       "    .dataframe tbody tr th {\n",
       "        vertical-align: top;\n",
       "    }\n",
       "\n",
       "    .dataframe thead th {\n",
       "        text-align: right;\n",
       "    }\n",
       "</style>\n",
       "<table border=\"1\" class=\"dataframe\">\n",
       "  <thead>\n",
       "    <tr style=\"text-align: right;\">\n",
       "      <th></th>\n",
       "      <th>mean</th>\n",
       "      <th>std</th>\n",
       "    </tr>\n",
       "    <tr>\n",
       "      <th>Regime_Name</th>\n",
       "      <th></th>\n",
       "      <th></th>\n",
       "    </tr>\n",
       "  </thead>\n",
       "  <tbody>\n",
       "    <tr>\n",
       "      <th>Boom Phase</th>\n",
       "      <td>6.053</td>\n",
       "      <td>2.381</td>\n",
       "    </tr>\n",
       "    <tr>\n",
       "      <th>Crisis Peak</th>\n",
       "      <td>3.834</td>\n",
       "      <td>0.762</td>\n",
       "    </tr>\n",
       "    <tr>\n",
       "      <th>Deep Recession</th>\n",
       "      <td>11.753</td>\n",
       "      <td>4.603</td>\n",
       "    </tr>\n",
       "    <tr>\n",
       "      <th>Early Recovery</th>\n",
       "      <td>3.811</td>\n",
       "      <td>0.341</td>\n",
       "    </tr>\n",
       "    <tr>\n",
       "      <th>Late‐Cycle Surge</th>\n",
       "      <td>6.272</td>\n",
       "      <td>1.014</td>\n",
       "    </tr>\n",
       "    <tr>\n",
       "      <th>Mid‐Cycle Dip</th>\n",
       "      <td>3.300</td>\n",
       "      <td>0.154</td>\n",
       "    </tr>\n",
       "    <tr>\n",
       "      <th>Mild Expansion</th>\n",
       "      <td>4.958</td>\n",
       "      <td>1.147</td>\n",
       "    </tr>\n",
       "    <tr>\n",
       "      <th>Pre‐Crisis Build-Up</th>\n",
       "      <td>4.116</td>\n",
       "      <td>1.593</td>\n",
       "    </tr>\n",
       "    <tr>\n",
       "      <th>Slowdown</th>\n",
       "      <td>5.417</td>\n",
       "      <td>1.030</td>\n",
       "    </tr>\n",
       "    <tr>\n",
       "      <th>Strong Expansion</th>\n",
       "      <td>5.010</td>\n",
       "      <td>1.945</td>\n",
       "    </tr>\n",
       "  </tbody>\n",
       "</table>\n",
       "</div>"
      ],
      "text/plain": [
       "                       mean    std\n",
       "Regime_Name                       \n",
       "Boom Phase            6.053  2.381\n",
       "Crisis Peak           3.834  0.762\n",
       "Deep Recession       11.753  4.603\n",
       "Early Recovery        3.811  0.341\n",
       "Late‐Cycle Surge      6.272  1.014\n",
       "Mid‐Cycle Dip         3.300  0.154\n",
       "Mild Expansion        4.958  1.147\n",
       "Pre‐Crisis Build-Up   4.116  1.593\n",
       "Slowdown              5.417  1.030\n",
       "Strong Expansion      5.010  1.945"
      ]
     },
     "metadata": {},
     "output_type": "display_data"
    },
    {
     "data": {
      "image/png": "[encoded data removed]",
      "text/plain": [
       "<Figure size 1200x800 with 1 Axes>"
      ]
     },
     "metadata": {},
     "output_type": "display_data"
    }
   ],
   "source": [
    "\n",
    "spread_stats = (\n",
    "    df_clean\n",
    "      .groupby('Regime_Name')['Credit_Spread']\n",
    "      .agg(['mean','std'])\n",
    "      .round(3)\n",
    ")\n",
    "display(spread_stats)\n",
    "\n",
    "# Optional: boxplot for visual distribution\n",
    "import seaborn as sns\n",
    "plt.figure(figsize=(12,8))\n",
    "sns.boxplot(x='Regime_Name', y='Credit_Spread', data=df_clean, order=spread_stats.index)\n",
    "plt.xticks(rotation=45, ha='right')\n",
    "plt.title(\"Credit Spread Distribution by Regime\")\n",
    "plt.tight_layout()\n",
    "plt.show()\n"
   ]
  },
  {
   "cell_type": "markdown",
   "id": "b75da7e4",
   "metadata": {},
   "source": [
    "## Interpreting the Final Regime EDA\n",
    "\n",
    "### 1. What the counts & boxplots tell us  \n",
    "- **Uneven regime durations**  \n",
    "  - “Deep Recession” (70 months), “Early Recovery” (56 months), and “Crisis Peak” (47 months) dominate, whereas “Mid-Cycle Dip” and “Slowdown” only occur 5 months each.  \n",
    "  - Very small regimes (≤ 5 months) may be sampling noise or brief shocks—hard for any model to learn reliably.  \n",
    "- **Distinct risk profiles**  \n",
    "  - Boxplots show “Pre-Crisis Build-Up” and “Crisis Peak” have the highest median credit spreads (≈ 11–12 %), while “Boom Phase” and “Strong Expansion” are lowest (≈ 3–4 %).  \n",
    "  - Regimes like “Deep Recession” and “Early Recovery” occupy intermediate spread levels, confirming our clusters map to meaningful credit-risk environments.\n",
    "\n",
    "### 2. How we named each regime  \n",
    "- We computed the **macro‐variable centroids** (mean GDP growth, unemployment rate, CPI, etc.) for each numeric cluster label.  \n",
    "- Semantic names reflect those centroids:  \n",
    "  - **“Strong Expansion”** → above-average GDP & industrial output, low unemployment, rising sentiment  \n",
    "  - **“Mid-Cycle Dip”** → small slowdown in GDP, slight uptick in unemployment, tempering sentiment  \n",
    "  - **“Pre-Crisis Build-Up”** → high CPI and credit spreads, tight FedFunds, signalling overheating before a shock  \n",
    "  - …and so on for all 10 regimes.  \n",
    "\n",
    "### 3. Ready for downstream modeling  \n",
    "- **Feature inputs**: we’ll feed each month’s one-hot `Regime_Name` (or `Regime_Label`) plus—even better—soft probabilities (`Regime_Prob_*`) into our LSTM/TFT alongside the raw macro series.  \n",
    "- **Handling tiny regimes**: because “Mid-Cycle Dip” and “Slowdown” only have 5 points, we may either  \n",
    "  - **merge** them into a broader “Other Dip/Shock” category, or  \n",
    "  - **exclude** them if they’re too sparse, to avoid overfitting.  \n",
    "- **Temporal continuity**: our 3-month rolling smoothing already removed single-month blips—DL models will now see more stable regime blocks.\n",
    "\n",
    "### 4. Any further cleaning or efficiency gains?  \n",
    "- **Merge or drop** sub-20-month regimes to ensure each class has enough training examples.  \n",
    "- **Re-evaluate k** if too many tiny clusters remain—perhaps a 7-regime solution would balance expressiveness with robustness.  \n",
    "- Once we’ve finalized regime definitions, we’re good to proceed to **Section 10**, where we plug these enriched features into our deep learning forecasting pipelines.\n"
   ]
  },
  {
   "cell_type": "markdown",
   "id": "5533d7fd",
   "metadata": {},
   "source": []
  }
 ],
 "metadata": {
  "kernelspec": {
   "display_name": "Python 3",
   "language": "python",
   "name": "python3"
  },
  "language_info": {
   "codemirror_mode": {
    "name": "ipython",
    "version": 3
   },
   "file_extension": ".py",
   "mimetype": "text/x-python",
   "name": "python",
   "nbconvert_exporter": "python",
   "pygments_lexer": "ipython3",
   "version": "3.11.3"
  }
 },
 "nbformat": 4,
 "nbformat_minor": 5
}
