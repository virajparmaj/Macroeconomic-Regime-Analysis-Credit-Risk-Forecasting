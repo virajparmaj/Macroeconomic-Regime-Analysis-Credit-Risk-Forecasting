{
 "cells": [
  {
   "cell_type": "markdown",
   "id": "0a11f1fa",
   "metadata": {},
   "source": [
    "# 1  Load labelled data & light preprocessing  \n",
    "We import the CSV that already contains **Regime_Label** and soft probabilities.  \n",
    "Static baselines will use a tabular frame with macro levels + lags; sequence models will later\n",
    "consume a 3-D tensor.\n"
   ]
  },
  {
   "cell_type": "code",
   "execution_count": 1,
   "id": "8907e4b7",
   "metadata": {},
   "outputs": [
    {
     "name": "stdout",
     "output_type": "stream",
     "text": [
      "Project root added to sys.path: c:\\Users\\viraj\\BuildSpace\\Projects\\Macroeconomic-Regime-Analysis-Credit-Risk\n"
     ]
    }
   ],
   "source": [
    "import os, sys\n",
    "\n",
    "# compute root as two levels up from notebooks/viraj/\n",
    "proj_root = os.path.abspath(os.path.join(os.getcwd(), \"..\", \"..\"))\n",
    "if proj_root not in sys.path:\n",
    "    sys.path.insert(0, proj_root)\n",
    "\n",
    "print(\"Project root added to sys.path:\", proj_root)\n"
   ]
  },
  {
   "cell_type": "code",
   "execution_count": 2,
   "metadata": {},
   "outputs": [
    {
     "name": "stdout",
     "output_type": "stream",
     "text": [
      "Loaded shape: (309, 20)\n"
     ]
    },
    {
     "data": {
      "application/vnd.microsoft.datawrangler.viewer.v0+json": {
       "columns": [
        {
         "name": "Month_End",
         "rawType": "datetime64[ns]",
         "type": "datetime"
        },
        {
         "name": "CPI",
         "rawType": "float64",
         "type": "float"
        },
        {
         "name": "FEDFUNDS",
         "rawType": "float64",
         "type": "float"
        },
        {
         "name": "Industrial_Production",
         "rawType": "float64",
         "type": "float"
        },
        {
         "name": "GDP",
         "rawType": "float64",
         "type": "float"
        },
        {
         "name": "Unemployment_Rate",
         "rawType": "float64",
         "type": "float"
        },
        {
         "name": "Consumer_Sentiment",
         "rawType": "float64",
         "type": "float"
        },
        {
         "name": "Credit_Spread",
         "rawType": "float64",
         "type": "float"
        },
        {
         "name": "Regime_Label",
         "rawType": "int64",
         "type": "integer"
        },
        {
         "name": "Regime_Prob_0",
         "rawType": "float64",
         "type": "float"
        },
        {
         "name": "Regime_Prob_1",
         "rawType": "float64",
         "type": "float"
        },
        {
         "name": "Regime_Prob_2",
         "rawType": "float64",
         "type": "float"
        },
        {
         "name": "Regime_Prob_3",
         "rawType": "float64",
         "type": "float"
        },
        {
         "name": "Regime_Prob_4",
         "rawType": "float64",
         "type": "float"
        },
        {
         "name": "Regime_Prob_5",
         "rawType": "float64",
         "type": "float"
        },
        {
         "name": "Regime_Prob_6",
         "rawType": "float64",
         "type": "float"
        },
        {
         "name": "Regime_Prob_7",
         "rawType": "float64",
         "type": "float"
        },
        {
         "name": "Regime_Prob_8",
         "rawType": "float64",
         "type": "float"
        },
        {
         "name": "Regime_Prob_9",
         "rawType": "float64",
         "type": "float"
        },
        {
         "name": "Regime_Label_Smoothed",
         "rawType": "float64",
         "type": "float"
        },
        {
         "name": "Regime_Name",
         "rawType": "object",
         "type": "string"
        }
       ],
       "conversionMethod": "pd.DataFrame",
       "ref": "1ced1164-5265-4208-891a-921e62875772",
       "rows": [
        [
         "1996-12-31 00:00:00",
         "159.1",
         "5.29",
         "77.3772",
         "1.86627256498311",
         "5.4",
         "96.9",
         "3.13",
         "3",
         "5.221304933785896e-29",
         "5.5602477947e-314",
         "2.832640420764433e-59",
         "1.0",
         "0.0",
         "1.409012036993919e-195",
         "0.0",
         "0.0",
         "0.0",
         "7.310310344520112e-52",
         "3.0",
         "Early Recovery"
        ],
        [
         "1997-01-31 00:00:00",
         "159.4",
         "5.25",
         "77.5135",
         "1.95264311049976",
         "5.3",
         "97.4",
         "3.03695652173913",
         "3",
         "1.9993749040595428e-29",
         "1.462489556909074e-306",
         "1.907599516134693e-59",
         "1.0",
         "0.0",
         "2.872078187258892e-194",
         "0.0",
         "0.0",
         "0.0",
         "2.4033280352216758e-49",
         "3.0",
         "Early Recovery"
        ],
        [
         "1997-02-28 00:00:00",
         "159.7",
         "5.19",
         "78.4255",
         "2.0608764944371",
         "5.2",
         "99.7",
         "2.956",
         "3",
         "1.7001790679820336e-29",
         "4.480301137352875e-293",
         "2.2853629472568204e-60",
         "1.0",
         "0.0",
         "3.978137802451099e-189",
         "0.0",
         "0.0",
         "0.0",
         "1.2517718652785464e-44",
         "3.0",
         "Early Recovery"
        ],
        [
         "1997-03-31 00:00:00",
         "159.8",
         "5.39",
         "78.9197",
         "2.1904152460859",
         "5.2",
         "100.0",
         "2.696190476190476",
         "3",
         "2.223333639604115e-30",
         "3.396840551366619e-296",
         "1.2488210027928681e-61",
         "1.0",
         "0.0",
         "3.047113808764116e-192",
         "0.0",
         "0.0",
         "0.0",
         "1.4139718365485205e-43",
         "3.0",
         "Early Recovery"
        ],
        [
         "1997-04-30 00:00:00",
         "159.9",
         "5.51",
         "78.9848",
         "2.33758201596323",
         "5.1",
         "101.4",
         "2.893181818181818",
         "3",
         "1.664941313789431e-32",
         "4.3471670643459964e-297",
         "2.548741867090022e-64",
         "1.0",
         "0.0",
         "1.5923287717850095e-196",
         "0.0",
         "0.0",
         "0.0",
         "3.1551410401360365e-42",
         "3.0",
         "Early Recovery"
        ]
       ],
       "shape": {
        "columns": 20,
        "rows": 5
       }
      },
      "text/html": [
       "<div>\n",
       "<style scoped>\n",
       "    .dataframe tbody tr th:only-of-type {\n",
       "        vertical-align: middle;\n",
       "    }\n",
       "\n",
       "    .dataframe tbody tr th {\n",
       "        vertical-align: top;\n",
       "    }\n",
       "\n",
       "    .dataframe thead th {\n",
       "        text-align: right;\n",
       "    }\n",
       "</style>\n",
       "<table border=\"1\" class=\"dataframe\">\n",
       "  <thead>\n",
       "    <tr style=\"text-align: right;\">\n",
       "      <th></th>\n",
       "      <th>CPI</th>\n",
       "      <th>FEDFUNDS</th>\n",
       "      <th>Industrial_Production</th>\n",
       "      <th>GDP</th>\n",
       "      <th>Unemployment_Rate</th>\n",
       "      <th>Consumer_Sentiment</th>\n",
       "      <th>Credit_Spread</th>\n",
       "      <th>Regime_Label</th>\n",
       "      <th>Regime_Prob_0</th>\n",
       "      <th>Regime_Prob_1</th>\n",
       "      <th>Regime_Prob_2</th>\n",
       "      <th>Regime_Prob_3</th>\n",
       "      <th>Regime_Prob_4</th>\n",
       "      <th>Regime_Prob_5</th>\n",
       "      <th>Regime_Prob_6</th>\n",
       "      <th>Regime_Prob_7</th>\n",
       "      <th>Regime_Prob_8</th>\n",
       "      <th>Regime_Prob_9</th>\n",
       "      <th>Regime_Label_Smoothed</th>\n",
       "      <th>Regime_Name</th>\n",
       "    </tr>\n",
       "    <tr>\n",
       "      <th>Month_End</th>\n",
       "      <th></th>\n",
       "      <th></th>\n",
       "      <th></th>\n",
       "      <th></th>\n",
       "      <th></th>\n",
       "      <th></th>\n",
       "      <th></th>\n",
       "      <th></th>\n",
       "      <th></th>\n",
       "      <th></th>\n",
       "      <th></th>\n",
       "      <th></th>\n",
       "      <th></th>\n",
       "      <th></th>\n",
       "      <th></th>\n",
       "      <th></th>\n",
       "      <th></th>\n",
       "      <th></th>\n",
       "      <th></th>\n",
       "      <th></th>\n",
       "    </tr>\n",
       "  </thead>\n",
       "  <tbody>\n",
       "    <tr>\n",
       "      <th>1996-12-31</th>\n",
       "      <td>159.1</td>\n",
       "      <td>5.29</td>\n",
       "      <td>77.3772</td>\n",
       "      <td>1.866273</td>\n",
       "      <td>5.4</td>\n",
       "      <td>96.9</td>\n",
       "      <td>3.130000</td>\n",
       "      <td>3</td>\n",
       "      <td>5.221305e-29</td>\n",
       "      <td>5.560248e-314</td>\n",
       "      <td>2.832640e-59</td>\n",
       "      <td>1.0</td>\n",
       "      <td>0.0</td>\n",
       "      <td>1.409012e-195</td>\n",
       "      <td>0.0</td>\n",
       "      <td>0.0</td>\n",
       "      <td>0.0</td>\n",
       "      <td>7.310310e-52</td>\n",
       "      <td>3.0</td>\n",
       "      <td>Early Recovery</td>\n",
       "    </tr>\n",
       "    <tr>\n",
       "      <th>1997-01-31</th>\n",
       "      <td>159.4</td>\n",
       "      <td>5.25</td>\n",
       "      <td>77.5135</td>\n",
       "      <td>1.952643</td>\n",
       "      <td>5.3</td>\n",
       "      <td>97.4</td>\n",
       "      <td>3.036957</td>\n",
       "      <td>3</td>\n",
       "      <td>1.999375e-29</td>\n",
       "      <td>1.462490e-306</td>\n",
       "      <td>1.907600e-59</td>\n",
       "      <td>1.0</td>\n",
       "      <td>0.0</td>\n",
       "      <td>2.872078e-194</td>\n",
       "      <td>0.0</td>\n",
       "      <td>0.0</td>\n",
       "      <td>0.0</td>\n",
       "      <td>2.403328e-49</td>\n",
       "      <td>3.0</td>\n",
       "      <td>Early Recovery</td>\n",
       "    </tr>\n",
       "    <tr>\n",
       "      <th>1997-02-28</th>\n",
       "      <td>159.7</td>\n",
       "      <td>5.19</td>\n",
       "      <td>78.4255</td>\n",
       "      <td>2.060876</td>\n",
       "      <td>5.2</td>\n",
       "      <td>99.7</td>\n",
       "      <td>2.956000</td>\n",
       "      <td>3</td>\n",
       "      <td>1.700179e-29</td>\n",
       "      <td>4.480301e-293</td>\n",
       "      <td>2.285363e-60</td>\n",
       "      <td>1.0</td>\n",
       "      <td>0.0</td>\n",
       "      <td>3.978138e-189</td>\n",
       "      <td>0.0</td>\n",
       "      <td>0.0</td>\n",
       "      <td>0.0</td>\n",
       "      <td>1.251772e-44</td>\n",
       "      <td>3.0</td>\n",
       "      <td>Early Recovery</td>\n",
       "    </tr>\n",
       "    <tr>\n",
       "      <th>1997-03-31</th>\n",
       "      <td>159.8</td>\n",
       "      <td>5.39</td>\n",
       "      <td>78.9197</td>\n",
       "      <td>2.190415</td>\n",
       "      <td>5.2</td>\n",
       "      <td>100.0</td>\n",
       "      <td>2.696190</td>\n",
       "      <td>3</td>\n",
       "      <td>2.223334e-30</td>\n",
       "      <td>3.396841e-296</td>\n",
       "      <td>1.248821e-61</td>\n",
       "      <td>1.0</td>\n",
       "      <td>0.0</td>\n",
       "      <td>3.047114e-192</td>\n",
       "      <td>0.0</td>\n",
       "      <td>0.0</td>\n",
       "      <td>0.0</td>\n",
       "      <td>1.413972e-43</td>\n",
       "      <td>3.0</td>\n",
       "      <td>Early Recovery</td>\n",
       "    </tr>\n",
       "    <tr>\n",
       "      <th>1997-04-30</th>\n",
       "      <td>159.9</td>\n",
       "      <td>5.51</td>\n",
       "      <td>78.9848</td>\n",
       "      <td>2.337582</td>\n",
       "      <td>5.1</td>\n",
       "      <td>101.4</td>\n",
       "      <td>2.893182</td>\n",
       "      <td>3</td>\n",
       "      <td>1.664941e-32</td>\n",
       "      <td>4.347167e-297</td>\n",
       "      <td>2.548742e-64</td>\n",
       "      <td>1.0</td>\n",
       "      <td>0.0</td>\n",
       "      <td>1.592329e-196</td>\n",
       "      <td>0.0</td>\n",
       "      <td>0.0</td>\n",
       "      <td>0.0</td>\n",
       "      <td>3.155141e-42</td>\n",
       "      <td>3.0</td>\n",
       "      <td>Early Recovery</td>\n",
       "    </tr>\n",
       "  </tbody>\n",
       "</table>\n",
       "</div>"
      ],
      "text/plain": [
       "              CPI  FEDFUNDS  Industrial_Production       GDP  Unemployment_Rate  Consumer_Sentiment  Credit_Spread  \\\n",
       "Month_End                                                                                                            \n",
       "1996-12-31  159.1      5.29                77.3772  1.866273                5.4                96.9       3.130000   \n",
       "1997-01-31  159.4      5.25                77.5135  1.952643                5.3                97.4       3.036957   \n",
       "1997-02-28  159.7      5.19                78.4255  2.060876                5.2                99.7       2.956000   \n",
       "1997-03-31  159.8      5.39                78.9197  2.190415                5.2               100.0       2.696190   \n",
       "1997-04-30  159.9      5.51                78.9848  2.337582                5.1               101.4       2.893182   \n",
       "\n",
       "            Regime_Label  Regime_Prob_0  Regime_Prob_1  Regime_Prob_2  Regime_Prob_3  Regime_Prob_4  Regime_Prob_5  \\\n",
       "Month_End                                                                                                            \n",
       "1996-12-31             3   5.221305e-29  5.560248e-314   2.832640e-59            1.0            0.0  1.409012e-195   \n",
       "1997-01-31             3   1.999375e-29  1.462490e-306   1.907600e-59            1.0            0.0  2.872078e-194   \n",
       "1997-02-28             3   1.700179e-29  4.480301e-293   2.285363e-60            1.0            0.0  3.978138e-189   \n",
       "1997-03-31             3   2.223334e-30  3.396841e-296   1.248821e-61            1.0            0.0  3.047114e-192   \n",
       "1997-04-30             3   1.664941e-32  4.347167e-297   2.548742e-64            1.0            0.0  1.592329e-196   \n",
       "\n",
       "            Regime_Prob_6  Regime_Prob_7  Regime_Prob_8  Regime_Prob_9  Regime_Label_Smoothed     Regime_Name  \n",
       "Month_End                                                                                                      \n",
       "1996-12-31            0.0            0.0            0.0   7.310310e-52                    3.0  Early Recovery  \n",
       "1997-01-31            0.0            0.0            0.0   2.403328e-49                    3.0  Early Recovery  \n",
       "1997-02-28            0.0            0.0            0.0   1.251772e-44                    3.0  Early Recovery  \n",
       "1997-03-31            0.0            0.0            0.0   1.413972e-43                    3.0  Early Recovery  \n",
       "1997-04-30            0.0            0.0            0.0   3.155141e-42                    3.0  Early Recovery  "
      ]
     },
     "metadata": {},
     "output_type": "display_data"
    }
   ],
   "source": [
    "import pandas as pd, numpy as np, matplotlib.pyplot as plt, seaborn as sns\n",
    "\n",
    "# Custom modules\n",
    "from config import (\n",
    "    MACRO_CREDIT_DATA_PATH,\n",
    "    TRAIN_START_DATE,\n",
    "    TRAIN_END_DATE,\n",
    "    TEST_START_DATE,\n",
    "    TEST_END_DATE,\n",
    "    SEQ_LEN,\n",
    "    FORECAST_STEPS,\n",
    "    RANDOM_STATE,\n",
    ")\n",
    "from utilities.data_processing import (\n",
    "    preprocess_data,\n",
    "    create_features,\n",
    "    add_lag_features\n",
    ")\n",
    "from utilities.functions import (\n",
    "    basic_eda,\n",
    "    \n",
    ")\n",
    "from utilities.model_utils import (\n",
    "    # ARIMA / SARIMA\n",
    "    train_sarimax,\n",
    "    forecast_sarimax,\n",
    "    chronological_split,\n",
    "    # Scikit-learn regression\n",
    "    train_regression_model,\n",
    "    evaluate_regression_model,\n",
    "    perform_hyperparameter_tuning,\n",
    "    \n",
    "    # Visualization\n",
    "    plot_forecast,\n",
    "    plot_feature_importance\n",
    ")\n",
    "\n",
    "\n",
    "pd.set_option(\"display.width\", 120)\n",
    "\n",
    "# Make sure the path and column names match the actual CSV\n",
    "df = pd.read_csv(\n",
    "    \"../../data/datamerged_macro_credit_with_regimes.csv\",\n",
    "    parse_dates=[\"Month_End\"],\n",
    "    index_col=\"Month_End\"\n",
    ")\n",
    "print(\"Loaded shape:\", df.shape)\n",
    "display(df.head())"
   ]
  },
  {
   "cell_type": "markdown",
   "id": "8f18b0de",
   "metadata": {},
   "source": [
    "### 1.1  Sanity check: regime timeline  \n",
    "Quick plot to ensure the smoothed labels align with history.\n",
    " "
   ]
  },
  {
   "cell_type": "code",
   "execution_count": 3,
   "id": "a2b97c1c",
   "metadata": {},
   "outputs": [
    {
     "data": {
      "image/png": "[encoded data removed]",
      "text/plain": [
       "<Figure size 1200x200 with 1 Axes>"
      ]
     },
     "metadata": {},
     "output_type": "display_data"
    }
   ],
   "source": [
    "df[\"Regime_Label\"].plot(figsize=(12,2), title=\"Regime timeline (hard labels)\")\n",
    "plt.show()"
   ]
  },
  {
   "cell_type": "markdown",
   "id": "14caff31",
   "metadata": {},
   "source": [
    "# 2  Static Baseline — Random Forest  \n",
    "We build a **tabular dataset** with:\n",
    "* macro levels  \n",
    "* three lags of `Credit_Spread`  \n",
    "* one-hot of `Regime_Label`  \n",
    "\n",
    "This gives us a quick benchmark before deep learning.\n"
   ]
  },
  {
   "cell_type": "code",
   "execution_count": 4,
   "id": "91f13c06",
   "metadata": {},
   "outputs": [
    {
     "name": "stdout",
     "output_type": "stream",
     "text": [
      "[RF]  Test  MSE=0.524  MAE=0.417  R²=0.616\n"
     ]
    }
   ],
   "source": [
    "from sklearn.preprocessing import OneHotEncoder\n",
    "from sklearn.compose import ColumnTransformer\n",
    "from sklearn.pipeline import Pipeline\n",
    "from sklearn.ensemble import RandomForestRegressor\n",
    "from sklearn.metrics import mean_squared_error, r2_score, mean_absolute_error\n",
    "\n",
    "# 2-A  select predictors\n",
    "base_feats = ['GDP','CPI','Unemployment_Rate','FEDFUNDS',\n",
    "              'Industrial_Production','Consumer_Sentiment']\n",
    "df = add_lag_features(df, columns=['Credit_Spread'], lags=[1,2,3])\n",
    "\n",
    "feature_cols = base_feats + ['Credit_Spread_lag1','Credit_Spread_lag2','Credit_Spread_lag3']\n",
    "target_col   = 'Credit_Spread'\n",
    "cat_col      = ['Regime_Label']\n",
    "\n",
    "# 2-B  split train / test\n",
    "train_df, test_df = chronological_split(df, TRAIN_END_DATE)\n",
    "\n",
    "# **NEW**: drop any rows with NaNs in your predictors or target\n",
    "train_df = train_df.dropna(subset=cat_col + feature_cols + [target_col])\n",
    "test_df  = test_df .dropna(subset=cat_col + feature_cols + [target_col])\n",
    "\n",
    "# 2-C  transformers\n",
    "ohe = OneHotEncoder(handle_unknown=\"ignore\", sparse_output=False)\n",
    "pre = ColumnTransformer(\n",
    "        [(\"ohe\", ohe, cat_col)],\n",
    "        remainder='passthrough')\n",
    "\n",
    "rf = RandomForestRegressor(\n",
    "        n_estimators=200, max_depth=None,\n",
    "        random_state=RANDOM_STATE)\n",
    "\n",
    "pipe = Pipeline([(\"prep\", pre),\n",
    "                 (\"rf\"  , rf)])\n",
    "\n",
    "# 2-D  fit\n",
    "X_train = train_df[cat_col + feature_cols]\n",
    "y_train = train_df[target_col]\n",
    "pipe.fit(X_train, y_train)\n",
    "\n",
    "# 2-E  evaluate\n",
    "X_test = test_df[cat_col + feature_cols]\n",
    "y_test = test_df[target_col]\n",
    "preds  = pipe.predict(X_test)\n",
    "\n",
    "mse  = mean_squared_error(y_test, preds)\n",
    "mae  = mean_absolute_error(y_test, preds)\n",
    "r2   = r2_score(y_test, preds)\n",
    "print(f\"[RF]  Test  MSE={mse:.3f}  MAE={mae:.3f}  R²={r2:.3f}\")\n"
   ]
  },
  {
   "cell_type": "markdown",
   "id": "478c3ce4",
   "metadata": {},
   "source": [
    "### 2.1  Visual check — RF predictions vs actual\n"
   ]
  },
  {
   "cell_type": "code",
   "execution_count": 5,
   "id": "916389bd",
   "metadata": {},
   "outputs": [
    {
     "data": {
      "image/png": "[encoded data removed]",
      "text/plain": [
       "<Figure size 1000x400 with 1 Axes>"
      ]
     },
     "metadata": {},
     "output_type": "display_data"
    }
   ],
   "source": [
    "plt.figure(figsize=(10,4))\n",
    "plt.plot(y_test.index, y_test, label=\"Actual\")\n",
    "plt.plot(y_test.index, preds, '--', label=\"RF Predicted\")\n",
    "plt.legend(); plt.title(\"Random Forest baseline\"); plt.show()\n"
   ]
  },
  {
   "cell_type": "markdown",
   "id": "b6a2db9a",
   "metadata": {},
   "source": [
    "\n",
    "\n",
    "\n",
    "\n",
    "### Section 2: Static Baseline – Random Forest\n",
    "\n",
    "- **Aim**:  \n",
    "  Quickly benchmark using a **tabular pipeline**: 6 raw macro levels + 3 lags of `Credit_Spread` + one-hot `Regime_Label`.\n",
    "\n",
    "- **What we found**:  \n",
    "  - **Test MSE = 0.524**, MAE = 0.417, R² = 0.616.  \n",
    "  - RF captures the big 2020 credit-spread spike, with small timing/magnitude errors on transitions.\n",
    "\n",
    "- **Conclusion**:  \n",
    "  Random Forest explains ~62% of variance—solid “quick-build” benchmark that future DL models must outperform.\n",
    "\n",
    "- **How this helps in section 4–8**:  \n",
    "  Sets a clear performance bar; diagnostic RF vs actual plots guide where LSTM/GRU can improve (especially transition dynamics).\n",
    "\n",
    "\n",
    "\n"
   ]
  },
  {
   "cell_type": "markdown",
   "id": "29e21a9c",
   "metadata": {},
   "source": [
    "## 3  Sequence-data Construction for LSTM  \n",
    "We now convert the dataframe into `(samples, seq_len, n_features)` and `(samples,)`\n",
    "targets using the helper `make_sequences()`.  \n",
    "The feature cube will include:\n",
    "* 6 macro levels  \n",
    "* regime **soft probability vector** (10 dims)  \n",
    "* (optional) lagged credit spread, scaled together\n"
   ]
  },
  {
   "cell_type": "code",
   "execution_count": 6,
   "id": "3c0f9df5",
   "metadata": {},
   "outputs": [
    {
     "name": "stdout",
     "output_type": "stream",
     "text": [
      "Sequence feature count: 17\n",
      "Tensor shapes  →  X: (297, 12, 17)   y: (297,)\n",
      "Train seq: (253, 12, 17)  Test seq: (44, 12, 17)\n"
     ]
    }
   ],
   "source": [
    "from utilities.functions import make_sequences, fit_scaler\n",
    "\n",
    "soft_cols   = [c for c in df.columns if c.startswith(\"Regime_Prob_\")]\n",
    "seq_features = base_feats + soft_cols + ['Credit_Spread']   # include current spread\n",
    "print(\"Sequence feature count:\", len(seq_features))\n",
    "\n",
    "# --- scaling (fit on train only)\n",
    "scaler = fit_scaler(train_df, seq_features)\n",
    "df_scaled = df.copy()\n",
    "df_scaled[seq_features] = scaler.transform(df_scaled[seq_features])\n",
    "\n",
    "# --- make sequences\n",
    "X_seq, y_seq, seq_dates = make_sequences(df_scaled, seq_features,\n",
    "                                         target_col='Credit_Spread',\n",
    "                                         seq_len=SEQ_LEN,\n",
    "                                         step_ahead=FORECAST_STEPS)\n",
    "\n",
    "print(\"Tensor shapes  →  X:\", X_seq.shape,  \"  y:\", y_seq.shape)\n",
    "\n",
    "# --- align dates and split\n",
    "seq_dates = pd.to_datetime(seq_dates)\n",
    "train_mask = seq_dates <= pd.to_datetime(TRAIN_END_DATE)\n",
    "X_train_seq, y_train_seq = X_seq[train_mask], y_seq[train_mask]\n",
    "X_test_seq , y_test_seq  = X_seq[~train_mask], y_seq[~train_mask]\n",
    "\n",
    "print(\"Train seq:\", X_train_seq.shape, \" Test seq:\", X_test_seq.shape)\n"
   ]
  },
  {
   "cell_type": "markdown",
   "id": "0d4ba744",
   "metadata": {},
   "source": [
    "- **Aim**:  \n",
    "  Transform the DataFrame into **3-D tensors** `(n_samples, seq_len, n_features)` and 1-D targets `(n_samples,)` for DL, including:\n",
    "  1. 6 macro levels  \n",
    "  2. 10-dim soft regime probabilities  \n",
    "  3. current `Credit_Spread`\n",
    "\n",
    "- **What we found**:  \n",
    "  - **Feature count** = 17  \n",
    "  - **Tensor shapes** → `X` (297 × 12 × 17), `y` (297,)  \n",
    "  - Chronological split → Train: (253 × 12 × 17), Test: (44 × 12 × 17)\n",
    "\n",
    "- **Conclusion**:  \n",
    "  Sequence tensors are ready, with scaler fit only on train slice—no leakage.\n",
    "\n",
    "- **How this helps in section 4–8**:  \n",
    "  Gives exact inputs for LSTM architectures (knowing feature dim & seq_len), and a reproducible train/val/test split for callbacks, evaluation, and direct comparison against classical baselines."
   ]
  },
  {
   "cell_type": "markdown",
   "id": "6ff23585",
   "metadata": {},
   "source": [
    "# 4  Single-Layer LSTM baseline  \n",
    "Train the simplest recurrent network (1 × LSTM → Dense) on the 12-month sequences prepared earlier.  \n",
    "We monitor val loss, save the best weights, and compare test metrics vs the Random-Forest baseline.\n"
   ]
  },
  {
   "cell_type": "code",
   "execution_count": 9,
   "id": "e90626bb",
   "metadata": {},
   "outputs": [],
   "source": [
    "# 4-A  Imports & reproducibility\n",
    "import tensorflow as tf, numpy as np, matplotlib.pyplot as plt, pandas as pd\n",
    "from tensorflow.keras import layers, models, callbacks, optimizers\n",
    "from config import SEQ_LEN, FORECAST_STEPS, BATCH_SIZE, EPOCHS, RANDOM_STATE, DL_MODEL_DIR\n",
    "tf.random.set_seed(RANDOM_STATE); np.random.seed(RANDOM_STATE)\n"
   ]
  },
  {
   "cell_type": "code",
   "execution_count": null,
   "id": "cc087059",
   "metadata": {},
   "outputs": [
    {
     "name": "stdout",
     "output_type": "stream",
     "text": [
      "Input shape for model: (12, 17)\n",
      "Model: \"lstm1_baseline\"\n",
      "_________________________________________________________________\n",
      " Layer (type)                Output Shape              Param #   \n",
      "=================================================================\n",
      " lstm (LSTM)                 (None, 64)                20992     \n",
      "                                                                 \n",
      " dense (Dense)               (None, 32)                2080      \n",
      "                                                                 \n",
      " dense_1 (Dense)             (None, 1)                 33        \n",
      "                                                                 \n",
      "=================================================================\n",
      "Total params: 23,105\n",
      "Trainable params: 23,105\n",
      "Non-trainable params: 0\n",
      "_________________________________________________________________\n"
     ]
    }
   ],
   "source": [
    "# 4-B  Build the model\n",
    "from tensorflow.keras import layers, models, callbacks, optimizers\n",
    "\n",
    "def build_lstm(units=64, dropout=0.3, lr=1e-3, input_shape=None):\n",
    "    m = models.Sequential(name=\"lstm1_baseline\")\n",
    "    m.add(layers.Input(shape=input_shape))\n",
    "    m.add(layers.LSTM(units,\n",
    "                      dropout=dropout,\n",
    "                      recurrent_dropout=0.2,   # <- new\n",
    "                      return_sequences=False))\n",
    "    m.add(layers.Dense(32, activation=\"relu\"))  # <- widen the dense\n",
    "    m.add(layers.Dense(1))\n",
    "    m.compile(\n",
    "        loss=\"mse\",\n",
    "        optimizer=optimizers.Adam(learning_rate=lr),\n",
    "        metrics=[\"mae\"]\n",
    "    )\n",
    "    return m\n",
    "\n",
    "input_shape = X_train_seq.shape[1:]  # (12, 17)\n",
    "print(\"Input shape for model:\", input_shape)\n",
    "model1 = build_lstm(input_shape=input_shape)\n",
    "model1.summary()\n"
   ]
  },
  {
   "cell_type": "code",
   "execution_count": 17,
   "id": "1ba3fae5",
   "metadata": {},
   "outputs": [],
   "source": [
    "# 4-C  Callbacks\n",
    "from tensorflow.keras.callbacks import EarlyStopping, ReduceLROnPlateau, ModelCheckpoint\n",
    "\n",
    "# 4-C  Callbacks\n",
    "cb = [\n",
    "    EarlyStopping(patience=15, restore_best_weights=True),\n",
    "    ReduceLROnPlateau(patience=7, factor=0.2, min_lr=1e-5),\n",
    "    ModelCheckpoint(DL_MODEL_DIR+\"lstm1_best.keras\", save_best_only=True)\n",
    "]\n"
   ]
  },
  {
   "cell_type": "code",
   "execution_count": 18,
   "id": "6d458a04",
   "metadata": {},
   "outputs": [
    {
     "name": "stdout",
     "output_type": "stream",
     "text": [
      "Epoch 1/150\n",
      "7/7 - 7s - loss: 0.8984 - mae: 0.6049 - val_loss: 0.2508 - val_mae: 0.4558 - lr: 0.0010 - 7s/epoch - 1s/step\n",
      "Epoch 2/150\n",
      "7/7 - 0s - loss: 0.5964 - mae: 0.4807 - val_loss: 0.2286 - val_mae: 0.4302 - lr: 0.0010 - 201ms/epoch - 29ms/step\n",
      "Epoch 3/150\n",
      "7/7 - 0s - loss: 0.4214 - mae: 0.4160 - val_loss: 0.2225 - val_mae: 0.4179 - lr: 0.0010 - 220ms/epoch - 31ms/step\n",
      "Epoch 4/150\n",
      "7/7 - 0s - loss: 0.3069 - mae: 0.3842 - val_loss: 0.2208 - val_mae: 0.4182 - lr: 0.0010 - 198ms/epoch - 28ms/step\n",
      "Epoch 5/150\n",
      "7/7 - 0s - loss: 0.2666 - mae: 0.3421 - val_loss: 0.2136 - val_mae: 0.4139 - lr: 0.0010 - 177ms/epoch - 25ms/step\n",
      "Epoch 6/150\n",
      "7/7 - 0s - loss: 0.2282 - mae: 0.3305 - val_loss: 0.2214 - val_mae: 0.4257 - lr: 0.0010 - 139ms/epoch - 20ms/step\n",
      "Epoch 7/150\n",
      "7/7 - 0s - loss: 0.1584 - mae: 0.2849 - val_loss: 0.2281 - val_mae: 0.4349 - lr: 0.0010 - 137ms/epoch - 20ms/step\n",
      "Epoch 8/150\n",
      "7/7 - 0s - loss: 0.1502 - mae: 0.2746 - val_loss: 0.2305 - val_mae: 0.4368 - lr: 0.0010 - 156ms/epoch - 22ms/step\n",
      "Epoch 9/150\n",
      "7/7 - 0s - loss: 0.1126 - mae: 0.2404 - val_loss: 0.2424 - val_mae: 0.4475 - lr: 0.0010 - 153ms/epoch - 22ms/step\n",
      "Epoch 10/150\n",
      "7/7 - 0s - loss: 0.1083 - mae: 0.2453 - val_loss: 0.2470 - val_mae: 0.4514 - lr: 0.0010 - 140ms/epoch - 20ms/step\n",
      "Epoch 11/150\n",
      "7/7 - 0s - loss: 0.1087 - mae: 0.2309 - val_loss: 0.2489 - val_mae: 0.4537 - lr: 0.0010 - 137ms/epoch - 20ms/step\n",
      "Epoch 12/150\n",
      "7/7 - 0s - loss: 0.0952 - mae: 0.2336 - val_loss: 0.2485 - val_mae: 0.4535 - lr: 0.0010 - 143ms/epoch - 20ms/step\n",
      "Epoch 13/150\n",
      "7/7 - 0s - loss: 0.0959 - mae: 0.2323 - val_loss: 0.2470 - val_mae: 0.4521 - lr: 2.0000e-04 - 140ms/epoch - 20ms/step\n",
      "Epoch 14/150\n",
      "7/7 - 0s - loss: 0.0929 - mae: 0.2252 - val_loss: 0.2444 - val_mae: 0.4496 - lr: 2.0000e-04 - 133ms/epoch - 19ms/step\n",
      "Epoch 15/150\n",
      "7/7 - 0s - loss: 0.0846 - mae: 0.2189 - val_loss: 0.2424 - val_mae: 0.4478 - lr: 2.0000e-04 - 140ms/epoch - 20ms/step\n",
      "Epoch 16/150\n",
      "7/7 - 0s - loss: 0.0922 - mae: 0.2236 - val_loss: 0.2422 - val_mae: 0.4476 - lr: 2.0000e-04 - 134ms/epoch - 19ms/step\n",
      "Epoch 17/150\n",
      "7/7 - 0s - loss: 0.0844 - mae: 0.2092 - val_loss: 0.2429 - val_mae: 0.4486 - lr: 2.0000e-04 - 137ms/epoch - 20ms/step\n",
      "Epoch 18/150\n",
      "7/7 - 0s - loss: 0.1017 - mae: 0.2298 - val_loss: 0.2440 - val_mae: 0.4502 - lr: 2.0000e-04 - 130ms/epoch - 19ms/step\n",
      "Epoch 19/150\n",
      "7/7 - 0s - loss: 0.0866 - mae: 0.2120 - val_loss: 0.2444 - val_mae: 0.4508 - lr: 2.0000e-04 - 142ms/epoch - 20ms/step\n",
      "Epoch 20/150\n",
      "7/7 - 0s - loss: 0.0919 - mae: 0.2252 - val_loss: 0.2444 - val_mae: 0.4508 - lr: 4.0000e-05 - 160ms/epoch - 23ms/step\n"
     ]
    }
   ],
   "source": [
    "# 4-D  Fit\n",
    "hist1 = model1.fit(\n",
    "    X_train_seq, y_train_seq,\n",
    "    validation_split=0.15,\n",
    "    epochs=EPOCHS, batch_size=BATCH_SIZE,\n",
    "    callbacks=cb,    # ← now cb is defined\n",
    "    verbose=2\n",
    ")\n"
   ]
  },
  {
   "cell_type": "code",
   "execution_count": 19,
   "id": "f4d7997a",
   "metadata": {},
   "outputs": [
    {
     "data": {
      "image/png": "[encoded data removed]",
      "text/plain": [
       "<Figure size 640x480 with 1 Axes>"
      ]
     },
     "metadata": {},
     "output_type": "display_data"
    }
   ],
   "source": [
    "# 4-E  Loss curves\n",
    "pd.DataFrame(hist1.history)[[\"loss\",\"val_loss\"]].plot(title=\"LSTM-1 Loss\"); plt.show()\n"
   ]
  },
  {
   "cell_type": "code",
   "execution_count": 20,
   "id": "e0d1952c",
   "metadata": {},
   "outputs": [
    {
     "name": "stdout",
     "output_type": "stream",
     "text": [
      "2/2 [==============================] - 1s 0s/step\n",
      "[LSTM-1] Test MSE=0.784  MAE=0.801  R²=-3.178\n"
     ]
    },
    {
     "data": {
      "image/png": "[encoded data removed]",
      "text/plain": [
       "<Figure size 1000x400 with 1 Axes>"
      ]
     },
     "metadata": {},
     "output_type": "display_data"
    }
   ],
   "source": [
    "# 4-F  Test metrics & plot\n",
    "y_pred1 = model1.predict(X_test_seq).flatten()\n",
    "from sklearn.metrics import mean_squared_error, mean_absolute_error, r2_score\n",
    "mse1 = mean_squared_error(y_test_seq, y_pred1)\n",
    "mae1 = mean_absolute_error(y_test_seq, y_pred1)\n",
    "r21  = r2_score(y_test_seq,  y_pred1)\n",
    "print(f\"[LSTM-1] Test MSE={mse1:.3f}  MAE={mae1:.3f}  R²={r21:.3f}\")\n",
    "\n",
    "plt.figure(figsize=(10,4))\n",
    "plt.plot(seq_dates[-len(y_test_seq):], y_test_seq, label=\"Actual\")\n",
    "plt.plot(seq_dates[-len(y_test_seq):], y_pred1, '--', label=\"LSTM-1\")\n",
    "plt.legend(); plt.title(\"LSTM-1 vs actual\"); plt.show()\n"
   ]
  },
  {
   "cell_type": "markdown",
   "id": "326716ff",
   "metadata": {},
   "source": [
    "#### 5-A  Stacked LSTM (2 layers)  \n",
    "Adds capacity with return_sequences=True on the first LSTM. We re-use the same tensors and callbacks.\n"
   ]
  },
  {
   "cell_type": "code",
   "execution_count": 21,
   "id": "f21428fe",
   "metadata": {},
   "outputs": [
    {
     "name": "stdout",
     "output_type": "stream",
     "text": [
      "Model: \"lstm_stacked\"\n",
      "_________________________________________________________________\n",
      " Layer (type)                Output Shape              Param #   \n",
      "=================================================================\n",
      " input_2 (InputLayer)        [(None, 12, 17)]          0         \n",
      "                                                                 \n",
      " lstm_1 (LSTM)               (None, 12, 64)            20992     \n",
      "                                                                 \n",
      " lstm_2 (LSTM)               (None, 32)                12416     \n",
      "                                                                 \n",
      " dense_2 (Dense)             (None, 1)                 33        \n",
      "                                                                 \n",
      "=================================================================\n",
      "Total params: 33,441\n",
      "Trainable params: 33,441\n",
      "Non-trainable params: 0\n",
      "_________________________________________________________________\n",
      "Epoch 1/150\n",
      "7/7 - 11s - loss: 0.9868 - mae: 0.6759 - val_loss: 0.4247 - val_mae: 0.5978 - lr: 3.0000e-04 - 11s/epoch - 2s/step\n",
      "Epoch 2/150\n",
      "7/7 - 0s - loss: 0.8752 - mae: 0.6356 - val_loss: 0.3723 - val_mae: 0.5608 - lr: 3.0000e-04 - 232ms/epoch - 33ms/step\n",
      "Epoch 3/150\n",
      "7/7 - 0s - loss: 0.7569 - mae: 0.5915 - val_loss: 0.3248 - val_mae: 0.5209 - lr: 3.0000e-04 - 242ms/epoch - 35ms/step\n",
      "Epoch 4/150\n",
      "7/7 - 0s - loss: 0.6494 - mae: 0.5420 - val_loss: 0.2908 - val_mae: 0.4858 - lr: 3.0000e-04 - 208ms/epoch - 30ms/step\n",
      "Epoch 5/150\n",
      "7/7 - 0s - loss: 0.5953 - mae: 0.5240 - val_loss: 0.2662 - val_mae: 0.4556 - lr: 3.0000e-04 - 201ms/epoch - 29ms/step\n",
      "Epoch 6/150\n",
      "7/7 - 0s - loss: 0.5119 - mae: 0.4858 - val_loss: 0.2523 - val_mae: 0.4347 - lr: 3.0000e-04 - 201ms/epoch - 29ms/step\n",
      "Epoch 7/150\n",
      "7/7 - 0s - loss: 0.4487 - mae: 0.4499 - val_loss: 0.2424 - val_mae: 0.4197 - lr: 3.0000e-04 - 174ms/epoch - 25ms/step\n",
      "Epoch 8/150\n",
      "7/7 - 0s - loss: 0.3851 - mae: 0.4192 - val_loss: 0.2338 - val_mae: 0.4091 - lr: 3.0000e-04 - 170ms/epoch - 24ms/step\n",
      "Epoch 9/150\n",
      "7/7 - 0s - loss: 0.3457 - mae: 0.3963 - val_loss: 0.2265 - val_mae: 0.4033 - lr: 3.0000e-04 - 176ms/epoch - 25ms/step\n",
      "Epoch 10/150\n",
      "7/7 - 0s - loss: 0.3164 - mae: 0.3839 - val_loss: 0.2223 - val_mae: 0.4030 - lr: 3.0000e-04 - 194ms/epoch - 28ms/step\n",
      "Epoch 11/150\n",
      "7/7 - 0s - loss: 0.2751 - mae: 0.3710 - val_loss: 0.2237 - val_mae: 0.4079 - lr: 3.0000e-04 - 224ms/epoch - 32ms/step\n",
      "Epoch 12/150\n",
      "7/7 - 0s - loss: 0.2431 - mae: 0.3408 - val_loss: 0.2272 - val_mae: 0.4129 - lr: 3.0000e-04 - 334ms/epoch - 48ms/step\n",
      "Epoch 13/150\n",
      "7/7 - 0s - loss: 0.2275 - mae: 0.3429 - val_loss: 0.2324 - val_mae: 0.4224 - lr: 3.0000e-04 - 254ms/epoch - 36ms/step\n",
      "Epoch 14/150\n",
      "7/7 - 0s - loss: 0.1953 - mae: 0.3153 - val_loss: 0.2340 - val_mae: 0.4231 - lr: 3.0000e-04 - 176ms/epoch - 25ms/step\n",
      "Epoch 15/150\n",
      "7/7 - 0s - loss: 0.1858 - mae: 0.3064 - val_loss: 0.2388 - val_mae: 0.4281 - lr: 3.0000e-04 - 184ms/epoch - 26ms/step\n",
      "Epoch 16/150\n",
      "7/7 - 0s - loss: 0.1635 - mae: 0.2882 - val_loss: 0.2467 - val_mae: 0.4396 - lr: 3.0000e-04 - 187ms/epoch - 27ms/step\n",
      "Epoch 17/150\n",
      "7/7 - 0s - loss: 0.1772 - mae: 0.2995 - val_loss: 0.2560 - val_mae: 0.4528 - lr: 3.0000e-04 - 186ms/epoch - 27ms/step\n",
      "Epoch 18/150\n",
      "7/7 - 0s - loss: 0.1884 - mae: 0.3163 - val_loss: 0.2564 - val_mae: 0.4535 - lr: 6.0000e-05 - 189ms/epoch - 27ms/step\n",
      "Epoch 19/150\n",
      "7/7 - 0s - loss: 0.1702 - mae: 0.2947 - val_loss: 0.2569 - val_mae: 0.4539 - lr: 6.0000e-05 - 179ms/epoch - 26ms/step\n",
      "Epoch 20/150\n",
      "7/7 - 0s - loss: 0.1712 - mae: 0.2961 - val_loss: 0.2570 - val_mae: 0.4543 - lr: 6.0000e-05 - 197ms/epoch - 28ms/step\n",
      "Epoch 21/150\n",
      "7/7 - 0s - loss: 0.1512 - mae: 0.2824 - val_loss: 0.2574 - val_mae: 0.4552 - lr: 6.0000e-05 - 172ms/epoch - 25ms/step\n",
      "Epoch 22/150\n",
      "7/7 - 0s - loss: 0.1643 - mae: 0.2977 - val_loss: 0.2579 - val_mae: 0.4559 - lr: 6.0000e-05 - 170ms/epoch - 24ms/step\n",
      "Epoch 23/150\n",
      "7/7 - 0s - loss: 0.1640 - mae: 0.2958 - val_loss: 0.2587 - val_mae: 0.4564 - lr: 6.0000e-05 - 169ms/epoch - 24ms/step\n",
      "Epoch 24/150\n",
      "7/7 - 0s - loss: 0.1313 - mae: 0.2710 - val_loss: 0.2589 - val_mae: 0.4564 - lr: 6.0000e-05 - 172ms/epoch - 25ms/step\n",
      "Epoch 25/150\n",
      "7/7 - 0s - loss: 0.1574 - mae: 0.2857 - val_loss: 0.2590 - val_mae: 0.4566 - lr: 1.2000e-05 - 170ms/epoch - 24ms/step\n"
     ]
    }
   ],
   "source": [
    "def build_stacked(units1=64, units2=32, dropout=0.2, lr=3e-4):\n",
    "    i = layers.Input(shape=input_shape)\n",
    "    x = layers.LSTM(units1, return_sequences=True, dropout=dropout)(i)\n",
    "    x = layers.LSTM(units2, dropout=dropout)(x)\n",
    "    o = layers.Dense(1)(x)\n",
    "    m = models.Model(i, o, name=\"lstm_stacked\")\n",
    "    m.compile(loss=\"mse\", optimizer=optimizers.Adam(lr), metrics=[\"mae\"])\n",
    "    return m\n",
    "\n",
    "model2 = build_stacked()\n",
    "model2.summary()\n",
    "\n",
    "hist2 = model2.fit(\n",
    "    X_train_seq, y_train_seq,\n",
    "    validation_split=0.15, epochs=EPOCHS, batch_size=BATCH_SIZE,\n",
    "    callbacks=cb, verbose=2)\n"
   ]
  },
  {
   "cell_type": "code",
   "execution_count": 22,
   "id": "a1323209",
   "metadata": {},
   "outputs": [
    {
     "name": "stdout",
     "output_type": "stream",
     "text": [
      "2/2 [==============================] - 2s 7ms/step\n",
      "[Stacked] MSE=0.602 MAE=0.725 R²=-2.207\n"
     ]
    }
   ],
   "source": [
    "# Stacked LSTM evaluation\n",
    "y_pred2 = model2.predict(X_test_seq).flatten()\n",
    "mse2 = mean_squared_error(y_test_seq, y_pred2)\n",
    "mae2 = mean_absolute_error(y_test_seq, y_pred2)\n",
    "r22  = r2_score(y_test_seq, y_pred2)\n",
    "print(f\"[Stacked] MSE={mse2:.3f} MAE={mae2:.3f} R²={r22:.3f}\")\n"
   ]
  },
  {
   "cell_type": "markdown",
   "id": "6ac892d6",
   "metadata": {},
   "source": [
    "#### 5-B  Single-Layer GRU  \n",
    "Often converges faster with fewer parameters.\n"
   ]
  },
  {
   "cell_type": "code",
   "execution_count": 23,
   "id": "51ca31ba",
   "metadata": {},
   "outputs": [
    {
     "name": "stdout",
     "output_type": "stream",
     "text": [
      "Epoch 1/150\n",
      "7/7 - 6s - loss: 1.3092 - mae: 0.8048 - val_loss: 0.5800 - val_mae: 0.6369 - lr: 0.0010 - 6s/epoch - 838ms/step\n",
      "Epoch 2/150\n",
      "7/7 - 0s - loss: 1.1084 - mae: 0.7169 - val_loss: 0.3749 - val_mae: 0.5055 - lr: 0.0010 - 116ms/epoch - 17ms/step\n",
      "Epoch 3/150\n",
      "7/7 - 0s - loss: 0.9143 - mae: 0.6189 - val_loss: 0.2859 - val_mae: 0.4431 - lr: 0.0010 - 119ms/epoch - 17ms/step\n",
      "Epoch 4/150\n",
      "7/7 - 0s - loss: 0.7609 - mae: 0.5712 - val_loss: 0.2396 - val_mae: 0.4090 - lr: 0.0010 - 108ms/epoch - 15ms/step\n",
      "Epoch 5/150\n",
      "7/7 - 0s - loss: 0.6773 - mae: 0.5283 - val_loss: 0.2106 - val_mae: 0.3788 - lr: 0.0010 - 189ms/epoch - 27ms/step\n",
      "Epoch 6/150\n",
      "7/7 - 0s - loss: 0.5735 - mae: 0.4826 - val_loss: 0.1880 - val_mae: 0.3479 - lr: 0.0010 - 170ms/epoch - 24ms/step\n",
      "Epoch 7/150\n",
      "7/7 - 0s - loss: 0.4652 - mae: 0.4425 - val_loss: 0.1684 - val_mae: 0.3207 - lr: 0.0010 - 159ms/epoch - 23ms/step\n",
      "Epoch 8/150\n",
      "7/7 - 0s - loss: 0.4313 - mae: 0.4300 - val_loss: 0.1568 - val_mae: 0.2991 - lr: 0.0010 - 165ms/epoch - 24ms/step\n",
      "Epoch 9/150\n",
      "7/7 - 0s - loss: 0.3236 - mae: 0.3730 - val_loss: 0.1458 - val_mae: 0.2965 - lr: 0.0010 - 168ms/epoch - 24ms/step\n",
      "Epoch 10/150\n",
      "7/7 - 0s - loss: 0.2817 - mae: 0.3592 - val_loss: 0.1395 - val_mae: 0.3010 - lr: 0.0010 - 175ms/epoch - 25ms/step\n",
      "Epoch 11/150\n",
      "7/7 - 0s - loss: 0.2512 - mae: 0.3399 - val_loss: 0.1362 - val_mae: 0.3069 - lr: 0.0010 - 178ms/epoch - 25ms/step\n",
      "Epoch 12/150\n",
      "7/7 - 0s - loss: 0.2433 - mae: 0.3361 - val_loss: 0.1471 - val_mae: 0.3349 - lr: 0.0010 - 114ms/epoch - 16ms/step\n",
      "Epoch 13/150\n",
      "7/7 - 0s - loss: 0.2468 - mae: 0.3380 - val_loss: 0.1689 - val_mae: 0.3690 - lr: 0.0010 - 115ms/epoch - 16ms/step\n",
      "Epoch 14/150\n",
      "7/7 - 0s - loss: 0.2117 - mae: 0.3213 - val_loss: 0.1742 - val_mae: 0.3761 - lr: 0.0010 - 120ms/epoch - 17ms/step\n",
      "Epoch 15/150\n",
      "7/7 - 0s - loss: 0.2128 - mae: 0.3201 - val_loss: 0.1815 - val_mae: 0.3837 - lr: 0.0010 - 113ms/epoch - 16ms/step\n",
      "Epoch 16/150\n",
      "7/7 - 0s - loss: 0.2032 - mae: 0.3028 - val_loss: 0.1968 - val_mae: 0.3997 - lr: 0.0010 - 113ms/epoch - 16ms/step\n",
      "Epoch 17/150\n",
      "7/7 - 0s - loss: 0.2281 - mae: 0.2953 - val_loss: 0.2122 - val_mae: 0.4207 - lr: 0.0010 - 119ms/epoch - 17ms/step\n",
      "Epoch 18/150\n",
      "7/7 - 0s - loss: 0.2026 - mae: 0.2965 - val_loss: 0.2313 - val_mae: 0.4434 - lr: 0.0010 - 110ms/epoch - 16ms/step\n",
      "Epoch 19/150\n",
      "7/7 - 0s - loss: 0.1976 - mae: 0.2865 - val_loss: 0.2327 - val_mae: 0.4448 - lr: 2.0000e-04 - 102ms/epoch - 15ms/step\n",
      "Epoch 20/150\n",
      "7/7 - 0s - loss: 0.1747 - mae: 0.2843 - val_loss: 0.2362 - val_mae: 0.4487 - lr: 2.0000e-04 - 102ms/epoch - 15ms/step\n",
      "Epoch 21/150\n",
      "7/7 - 0s - loss: 0.2116 - mae: 0.3011 - val_loss: 0.2388 - val_mae: 0.4518 - lr: 2.0000e-04 - 116ms/epoch - 17ms/step\n",
      "Epoch 22/150\n",
      "7/7 - 0s - loss: 0.2054 - mae: 0.3105 - val_loss: 0.2393 - val_mae: 0.4526 - lr: 2.0000e-04 - 166ms/epoch - 24ms/step\n",
      "Epoch 23/150\n",
      "7/7 - 0s - loss: 0.1994 - mae: 0.3006 - val_loss: 0.2423 - val_mae: 0.4559 - lr: 2.0000e-04 - 157ms/epoch - 22ms/step\n",
      "Epoch 24/150\n",
      "7/7 - 0s - loss: 0.1758 - mae: 0.2942 - val_loss: 0.2432 - val_mae: 0.4570 - lr: 2.0000e-04 - 180ms/epoch - 26ms/step\n",
      "Epoch 25/150\n",
      "7/7 - 0s - loss: 0.2022 - mae: 0.2948 - val_loss: 0.2476 - val_mae: 0.4613 - lr: 2.0000e-04 - 126ms/epoch - 18ms/step\n",
      "Epoch 26/150\n",
      "7/7 - 0s - loss: 0.1874 - mae: 0.2867 - val_loss: 0.2481 - val_mae: 0.4618 - lr: 4.0000e-05 - 118ms/epoch - 17ms/step\n",
      "2/2 [==============================] - 1s 5ms/step\n",
      "[GRU] MSE=1.438 MAE=0.998 R²=-6.661\n"
     ]
    }
   ],
   "source": [
    "def build_gru(units=32, dropout=0.3, lr=1e-3):\n",
    "    m = models.Sequential(name=\"gru_baseline\")\n",
    "    m.add(layers.Input(shape=input_shape))\n",
    "    m.add(layers.GRU(units,\n",
    "                     dropout=dropout,          # higher dropout\n",
    "                     recurrent_dropout=0.2))   # new recurrent dropout\n",
    "    m.add(layers.Dense(16, activation=\"relu\"))      # a small hidden layer\n",
    "    m.add(layers.Dense(1))\n",
    "    m.compile(loss=\"mse\",\n",
    "              optimizer=optimizers.Adam(lr),\n",
    "              metrics=[\"mae\"])\n",
    "    return m\n",
    "\n",
    "\n",
    "model3 = build_gru()\n",
    "hist3 = model3.fit(X_train_seq, y_train_seq,\n",
    "                   validation_split=0.15, epochs=EPOCHS, batch_size=BATCH_SIZE,\n",
    "                   callbacks=cb, verbose=2)\n",
    "\n",
    "y_pred3 = model3.predict(X_test_seq).flatten()\n",
    "mse3 = mean_squared_error(y_test_seq, y_pred3)\n",
    "mae3 = mean_absolute_error(y_test_seq, y_pred3)\n",
    "r23  = r2_score(y_test_seq, y_pred3)\n",
    "print(f\"[GRU] MSE={mse3:.3f} MAE={mae3:.3f} R²={r23:.3f}\")\n"
   ]
  },
  {
   "cell_type": "markdown",
   "id": "36cffc6a",
   "metadata": {},
   "source": [
    "### 6  Mini-Transformer Encoder  \n",
    "We add a single self-attention block; GlobalAveragePooling condenses the time axis.\n"
   ]
  },
  {
   "cell_type": "code",
   "execution_count": 24,
   "id": "9dc081c9",
   "metadata": {},
   "outputs": [
    {
     "name": "stdout",
     "output_type": "stream",
     "text": [
      "Model: \"transformer_encoder\"\n",
      "__________________________________________________________________________________________________\n",
      " Layer (type)                   Output Shape         Param #     Connected to                     \n",
      "==================================================================================================\n",
      " input_4 (InputLayer)           [(None, 12, 17)]     0           []                               \n",
      "                                                                                                  \n",
      " tf.__operators__.add (TFOpLamb  (None, 12, 17)      0           ['input_4[0][0]']                \n",
      " da)                                                                                              \n",
      "                                                                                                  \n",
      " layer_normalization (LayerNorm  (None, 12, 17)      34          ['tf.__operators__.add[0][0]']   \n",
      " alization)                                                                                       \n",
      "                                                                                                  \n",
      " multi_head_attention (MultiHea  (None, 12, 17)      9105        ['layer_normalization[0][0]',    \n",
      " dAttention)                                                      'layer_normalization[0][0]']    \n",
      "                                                                                                  \n",
      " add (Add)                      (None, 12, 17)       0           ['multi_head_attention[0][0]',   \n",
      "                                                                  'input_4[0][0]']                \n",
      "                                                                                                  \n",
      " layer_normalization_1 (LayerNo  (None, 12, 17)      34          ['add[0][0]']                    \n",
      " rmalization)                                                                                     \n",
      "                                                                                                  \n",
      " dense_5 (Dense)                (None, 12, 64)       1152        ['layer_normalization_1[0][0]']  \n",
      "                                                                                                  \n",
      " dense_6 (Dense)                (None, 12, 17)       1105        ['dense_5[0][0]']                \n",
      "                                                                                                  \n",
      " global_average_pooling1d (Glob  (None, 17)          0           ['dense_6[0][0]']                \n",
      " alAveragePooling1D)                                                                              \n",
      "                                                                                                  \n",
      " dense_7 (Dense)                (None, 1)            18          ['global_average_pooling1d[0][0]'\n",
      "                                                                 ]                                \n",
      "                                                                                                  \n",
      "==================================================================================================\n",
      "Total params: 11,448\n",
      "Trainable params: 11,448\n",
      "Non-trainable params: 0\n",
      "__________________________________________________________________________________________________\n",
      "Epoch 1/150\n",
      "7/7 - 5s - loss: 2.8730 - mae: 1.3820 - val_loss: 1.0639 - val_mae: 0.9496 - lr: 0.0010 - 5s/epoch - 643ms/step\n",
      "Epoch 2/150\n",
      "7/7 - 0s - loss: 1.0511 - mae: 0.7291 - val_loss: 0.3697 - val_mae: 0.5585 - lr: 0.0010 - 105ms/epoch - 15ms/step\n",
      "Epoch 3/150\n",
      "7/7 - 0s - loss: 0.7828 - mae: 0.5533 - val_loss: 0.2259 - val_mae: 0.4255 - lr: 0.0010 - 104ms/epoch - 15ms/step\n",
      "Epoch 4/150\n",
      "7/7 - 0s - loss: 0.5912 - mae: 0.4782 - val_loss: 0.2175 - val_mae: 0.3985 - lr: 0.0010 - 103ms/epoch - 15ms/step\n",
      "Epoch 5/150\n",
      "7/7 - 0s - loss: 0.4708 - mae: 0.4459 - val_loss: 0.2012 - val_mae: 0.3764 - lr: 0.0010 - 104ms/epoch - 15ms/step\n",
      "Epoch 6/150\n",
      "7/7 - 0s - loss: 0.3912 - mae: 0.4183 - val_loss: 0.1818 - val_mae: 0.3505 - lr: 0.0010 - 100ms/epoch - 14ms/step\n",
      "Epoch 7/150\n",
      "7/7 - 0s - loss: 0.3377 - mae: 0.4020 - val_loss: 0.1724 - val_mae: 0.3593 - lr: 0.0010 - 104ms/epoch - 15ms/step\n",
      "Epoch 8/150\n",
      "7/7 - 0s - loss: 0.3067 - mae: 0.3855 - val_loss: 0.1833 - val_mae: 0.3807 - lr: 0.0010 - 103ms/epoch - 15ms/step\n",
      "Epoch 9/150\n",
      "7/7 - 0s - loss: 0.2751 - mae: 0.3615 - val_loss: 0.1942 - val_mae: 0.3933 - lr: 0.0010 - 100ms/epoch - 14ms/step\n",
      "Epoch 10/150\n",
      "7/7 - 0s - loss: 0.2469 - mae: 0.3456 - val_loss: 0.1964 - val_mae: 0.3940 - lr: 0.0010 - 101ms/epoch - 14ms/step\n",
      "Epoch 11/150\n",
      "7/7 - 0s - loss: 0.2307 - mae: 0.3318 - val_loss: 0.2095 - val_mae: 0.4055 - lr: 0.0010 - 104ms/epoch - 15ms/step\n",
      "Epoch 12/150\n",
      "7/7 - 0s - loss: 0.2116 - mae: 0.3173 - val_loss: 0.2242 - val_mae: 0.4194 - lr: 0.0010 - 91ms/epoch - 13ms/step\n",
      "Epoch 13/150\n",
      "7/7 - 0s - loss: 0.1971 - mae: 0.3096 - val_loss: 0.2276 - val_mae: 0.4193 - lr: 0.0010 - 100ms/epoch - 14ms/step\n",
      "Epoch 14/150\n",
      "7/7 - 0s - loss: 0.1858 - mae: 0.2994 - val_loss: 0.2344 - val_mae: 0.4239 - lr: 0.0010 - 105ms/epoch - 15ms/step\n",
      "Epoch 15/150\n",
      "7/7 - 0s - loss: 0.1748 - mae: 0.2955 - val_loss: 0.2367 - val_mae: 0.4259 - lr: 2.0000e-04 - 90ms/epoch - 13ms/step\n",
      "Epoch 16/150\n",
      "7/7 - 0s - loss: 0.1725 - mae: 0.2913 - val_loss: 0.2434 - val_mae: 0.4312 - lr: 2.0000e-04 - 108ms/epoch - 15ms/step\n",
      "Epoch 17/150\n",
      "7/7 - 0s - loss: 0.1689 - mae: 0.2890 - val_loss: 0.2512 - val_mae: 0.4378 - lr: 2.0000e-04 - 98ms/epoch - 14ms/step\n",
      "Epoch 18/150\n",
      "7/7 - 0s - loss: 0.1668 - mae: 0.2860 - val_loss: 0.2570 - val_mae: 0.4427 - lr: 2.0000e-04 - 92ms/epoch - 13ms/step\n",
      "Epoch 19/150\n",
      "7/7 - 0s - loss: 0.1630 - mae: 0.2858 - val_loss: 0.2620 - val_mae: 0.4473 - lr: 2.0000e-04 - 93ms/epoch - 13ms/step\n",
      "Epoch 20/150\n",
      "7/7 - 0s - loss: 0.1623 - mae: 0.2854 - val_loss: 0.2660 - val_mae: 0.4510 - lr: 2.0000e-04 - 93ms/epoch - 13ms/step\n",
      "Epoch 21/150\n",
      "7/7 - 0s - loss: 0.1615 - mae: 0.2826 - val_loss: 0.2722 - val_mae: 0.4558 - lr: 2.0000e-04 - 100ms/epoch - 14ms/step\n",
      "Epoch 22/150\n",
      "7/7 - 0s - loss: 0.1572 - mae: 0.2802 - val_loss: 0.2729 - val_mae: 0.4564 - lr: 4.0000e-05 - 110ms/epoch - 16ms/step\n"
     ]
    }
   ],
   "source": [
    "def build_transformer(num_heads=4, d_k=32, ff_dim=64, dropout=0.2, lr=1e-3):\n",
    "    inp = layers.Input(shape=input_shape)       # (12,17)\n",
    "    # 1) simple trainable positional embedding\n",
    "    #    positions = [0,1,...,11]\n",
    "    pos_idx = tf.range(start=0, limit=input_shape[0], delta=1)\n",
    "    pos_emb = layers.Embedding(input_shape[0], input_shape[1])(pos_idx)\n",
    "    pos_emb = tf.expand_dims(pos_emb, 0)        # shape (1,12,17)\n",
    "    x = inp + pos_emb                           # broadcast sum\n",
    "\n",
    "    # 2) the rest as before\n",
    "    x = layers.LayerNormalization()(x)\n",
    "    x = layers.MultiHeadAttention(num_heads=num_heads,\n",
    "                                  key_dim=d_k,\n",
    "                                  dropout=dropout)(x, x)\n",
    "    x = layers.Add()([x, inp])                  # residual\n",
    "    x = layers.LayerNormalization()(x)\n",
    "    x = layers.Dense(ff_dim, activation=\"relu\")(x)\n",
    "    x = layers.Dense(input_shape[-1])(x)\n",
    "    x = layers.GlobalAveragePooling1D()(x)\n",
    "    out = layers.Dense(1)(x)\n",
    "\n",
    "    m = models.Model(inp, out, name=\"transformer_encoder\")\n",
    "    m.compile(loss=\"mse\",\n",
    "              optimizer=optimizers.Adam(lr),\n",
    "              metrics=[\"mae\"])\n",
    "    return m\n",
    "\n",
    "\n",
    "model4 = build_transformer()\n",
    "model4.summary()\n",
    "\n",
    "hist4 = model4.fit(X_train_seq, y_train_seq,\n",
    "                   validation_split=0.15, epochs=EPOCHS, batch_size=BATCH_SIZE,\n",
    "                   callbacks=cb, verbose=2)\n"
   ]
  },
  {
   "cell_type": "code",
   "execution_count": 25,
   "id": "386f2517",
   "metadata": {},
   "outputs": [
    {
     "name": "stdout",
     "output_type": "stream",
     "text": [
      "2/2 [==============================] - 0s 5ms/step\n",
      "[Transformer] MSE=0.535 MAE=0.591 R²=-1.851\n"
     ]
    }
   ],
   "source": [
    "y_pred4 = model4.predict(X_test_seq).flatten()\n",
    "mse4 = mean_squared_error(y_test_seq, y_pred4)\n",
    "mae4 = mean_absolute_error(y_test_seq, y_pred4)\n",
    "r24  = r2_score(y_test_seq, y_pred4)\n",
    "print(f\"[Transformer] MSE={mse4:.3f} MAE={mae4:.3f} R²={r24:.3f}\")\n"
   ]
  },
  {
   "cell_type": "markdown",
   "id": "282d5e5b",
   "metadata": {},
   "source": [
    "### Performance summary  \n",
    "Compare all supervised models on the identical 2019-2022 test window.\n"
   ]
  },
  {
   "cell_type": "code",
   "execution_count": 26,
   "id": "e23bb0c8",
   "metadata": {},
   "outputs": [
    {
     "data": {
      "text/html": [
       "<style type=\"text/css\">\n",
       "</style>\n",
       "<table id=\"T_be334\">\n",
       "  <thead>\n",
       "    <tr>\n",
       "      <th class=\"blank level0\" >&nbsp;</th>\n",
       "      <th id=\"T_be334_level0_col0\" class=\"col_heading level0 col0\" >MSE</th>\n",
       "      <th id=\"T_be334_level0_col1\" class=\"col_heading level0 col1\" >MAE</th>\n",
       "      <th id=\"T_be334_level0_col2\" class=\"col_heading level0 col2\" >R2</th>\n",
       "    </tr>\n",
       "    <tr>\n",
       "      <th class=\"index_name level0\" >Model</th>\n",
       "      <th class=\"blank col0\" >&nbsp;</th>\n",
       "      <th class=\"blank col1\" >&nbsp;</th>\n",
       "      <th class=\"blank col2\" >&nbsp;</th>\n",
       "    </tr>\n",
       "  </thead>\n",
       "  <tbody>\n",
       "    <tr>\n",
       "      <th id=\"T_be334_level0_row0\" class=\"row_heading level0 row0\" >RandomForest</th>\n",
       "      <td id=\"T_be334_row0_col0\" class=\"data row0 col0\" >0.524</td>\n",
       "      <td id=\"T_be334_row0_col1\" class=\"data row0 col1\" >0.417</td>\n",
       "      <td id=\"T_be334_row0_col2\" class=\"data row0 col2\" >0.616</td>\n",
       "    </tr>\n",
       "    <tr>\n",
       "      <th id=\"T_be334_level0_row1\" class=\"row_heading level0 row1\" >LSTM-1</th>\n",
       "      <td id=\"T_be334_row1_col0\" class=\"data row1 col0\" >0.784</td>\n",
       "      <td id=\"T_be334_row1_col1\" class=\"data row1 col1\" >0.801</td>\n",
       "      <td id=\"T_be334_row1_col2\" class=\"data row1 col2\" >-3.178</td>\n",
       "    </tr>\n",
       "    <tr>\n",
       "      <th id=\"T_be334_level0_row2\" class=\"row_heading level0 row2\" >Stacked-LSTM</th>\n",
       "      <td id=\"T_be334_row2_col0\" class=\"data row2 col0\" >0.602</td>\n",
       "      <td id=\"T_be334_row2_col1\" class=\"data row2 col1\" >0.725</td>\n",
       "      <td id=\"T_be334_row2_col2\" class=\"data row2 col2\" >-2.207</td>\n",
       "    </tr>\n",
       "    <tr>\n",
       "      <th id=\"T_be334_level0_row3\" class=\"row_heading level0 row3\" >GRU</th>\n",
       "      <td id=\"T_be334_row3_col0\" class=\"data row3 col0\" >1.438</td>\n",
       "      <td id=\"T_be334_row3_col1\" class=\"data row3 col1\" >0.998</td>\n",
       "      <td id=\"T_be334_row3_col2\" class=\"data row3 col2\" >-6.661</td>\n",
       "    </tr>\n",
       "    <tr>\n",
       "      <th id=\"T_be334_level0_row4\" class=\"row_heading level0 row4\" >Transformer</th>\n",
       "      <td id=\"T_be334_row4_col0\" class=\"data row4 col0\" >0.535</td>\n",
       "      <td id=\"T_be334_row4_col1\" class=\"data row4 col1\" >0.591</td>\n",
       "      <td id=\"T_be334_row4_col2\" class=\"data row4 col2\" >-1.851</td>\n",
       "    </tr>\n",
       "  </tbody>\n",
       "</table>\n"
      ],
      "text/plain": [
       "<pandas.io.formats.style.Styler at 0x209e4f0af50>"
      ]
     },
     "metadata": {},
     "output_type": "display_data"
    }
   ],
   "source": [
    "summary = pd.DataFrame({\n",
    "    \"Model\": [\"RandomForest\",\"LSTM-1\",\"Stacked-LSTM\",\"GRU\",\"Transformer\"],\n",
    "    \"MSE\"  : [0.524, mse1, mse2, mse3, mse4],\n",
    "    \"MAE\"  : [0.417, mae1, mae2, mae3, mae4],\n",
    "    \"R2\"   : [0.616, r21,  r22,  r23,  r24]\n",
    "}).set_index(\"Model\")\n",
    "display(summary.style.format(\"{:.3f}\"))\n"
   ]
  },
  {
   "cell_type": "markdown",
   "id": "a9693adb",
   "metadata": {},
   "source": [
    "Here’s how the newest results stack up against your prior run:\n",
    "\n",
    "| Model         | Previous MSE | New MSE | Improved? | Previous MAE | New MAE | Improved? | Previous R² | New R² | Improved? |\n",
    "|---------------|--------------|---------|------------|--------------|---------|------------|-------------|---------|------------|\n",
    "| **RandomForest** | 0.524        | 0.524   | —          | 0.417        | 0.417   | —          |  0.616      |  0.616  | —          |\n",
    "| **LSTM-1**      | **0.243**    | 0.784   | No (↑)     | **0.398**    | 0.801   | No (↑)     | −0.293      | −3.178  | No (↓)     |\n",
    "| **Stacked-LSTM**| 0.694        | 0.602   | Yes (↓)    | 0.733        | 0.725   | Yes (↓)    | −2.695      | −2.207  | Yes (↑)    |\n",
    "| **GRU**         | 0.299        | 1.438   | No (↑)     | 0.436        | 0.998   | No (↑)     | −0.591      | −6.661  | No (↓)     |\n",
    "| **Transformer** | 0.623        | 0.535   | Yes (↓)    | 0.735        | 0.591   | Yes (↓)    | −2.319      | −1.851  | Yes (↑)    |\n",
    "\n",
    "- **Improved** (new MSE lower or MAE lower / R² less negative):  \n",
    "  - **Stacked-LSTM** shaved its MSE from 0.694 → 0.602 and nudged R² from −2.695 → −2.207.  \n",
    "  - **Transformer** came down from MSE=0.623 → 0.535 and R² from −2.319 → −1.851.  \n",
    "- **Worse** (new MSE higher or MAE higher / R² more negative):  \n",
    "  - **LSTM-1** jumped from 0.243 → 0.784 (val-loss curve improvements notwithstanding, its final test fit degraded).  \n",
    "  - **GRU** also deteriorated across all metrics.  \n",
    "- **Unchanged**: RandomForest is identical (it’s your static baseline).\n",
    "\n",
    "**Take-aways & next steps**  \n",
    "- The **Stacked-LSTM** and **Transformer** benefited from the tweaks—you can lean further into those architectures.  \n",
    "- The **plain LSTM-1** overfitted the train/val split once you adjusted callbacks (early-stop, LR schedule), so consider **relaxing patience**, **lowering dropout**, or **adding a bit more capacity** (e.g. widen the Dense layer back to 32 units).  \n",
    "- The **GRU** clearly needs a rethink—either different hyperparameters or skip it.  \n",
    "- Ultimately, RandomForest still wins overall; any DL model must beat MSE≈0.52 to be worthwhile.\n",
    "\n",
    "No variable names changed, so you shouldn’t need any code edits—just hyperparameter/layout tweaks as above.\n"
   ]
  }
 ],
 "metadata": {
  "kernelspec": {
   "display_name": "Python 3",
   "language": "python",
   "name": "python3"
  },
  "language_info": {
   "codemirror_mode": {
    "name": "ipython",
    "version": 3
   },
   "file_extension": ".py",
   "mimetype": "text/x-python",
   "name": "python",
   "nbconvert_exporter": "python",
   "pygments_lexer": "ipython3",
   "version": "3.11.3"
  }
 },
 "nbformat": 4,
 "nbformat_minor": 5
}
