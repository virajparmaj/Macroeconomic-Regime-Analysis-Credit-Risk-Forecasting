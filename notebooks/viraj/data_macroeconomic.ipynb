{
 "cells": [
  {
   "cell_type": "markdown",
   "metadata": {},
   "source": [
    "# Merge Dataset for each Marcroeconomic Feature for dates between 12-01-1977 to 08-01-2022"
   ]
  },
  {
   "cell_type": "code",
   "execution_count": 1,
   "metadata": {},
   "outputs": [
    {
     "name": "stdout",
     "output_type": "stream",
     "text": [
      "Merged dataset saved to: C:\\Users\\viraj\\BuildSpace\\Projects\\Macroeconomic-Regime-Analysis-Credit-Risk\\datasets\\macroeconomic_data_merged.csv\n"
     ]
    }
   ],
   "source": [
    "import os\n",
    "import pandas as pd\n",
    "from functools import reduce\n",
    "\n",
    "# Path to your datasets folder\n",
    "folder_path = r\"C:\\Users\\viraj\\BuildSpace\\Projects\\Macroeconomic-Regime-Analysis-Credit-Risk\\datasets\"\n",
    "\n",
    "# List all CSV files in the folder\n",
    "csv_files = [f for f in os.listdir(folder_path) if f.endswith('.csv')]\n",
    "\n",
    "# Initialize a list to hold dataframes\n",
    "df_list = []\n",
    "\n",
    "for file_name in csv_files:\n",
    "    file_path = os.path.join(folder_path, file_name)\n",
    "    \n",
    "    # Read the CSV file\n",
    "    df_temp = pd.read_csv(file_path)\n",
    "    \n",
    "    # Rename columns:\n",
    "    # - The first column is the date column\n",
    "    # - The second column is named after the file (minus .csv) for clarity\n",
    "    base_name = os.path.splitext(file_name)[0]  # e.g., \"Consumer Price Index for All Urban...\"\n",
    "    df_temp.columns = [\"Date\", base_name]\n",
    "    \n",
    "    # Convert Date column to datetime if not already\n",
    "    df_temp[\"Date\"] = pd.to_datetime(df_temp[\"Date\"])\n",
    "    \n",
    "    # Append to list\n",
    "    df_list.append(df_temp)\n",
    "\n",
    "# Merge all dataframes on the Date column (outer join to keep all dates)\n",
    "df_merged = reduce(lambda left, right: pd.merge(left, right, on=\"Date\", how=\"outer\"), df_list)\n",
    "\n",
    "# Sort by Date just in case\n",
    "df_merged.sort_values(\"Date\", inplace=True)\n",
    "\n",
    "# Save the combined dataset\n",
    "output_file = os.path.join(folder_path, \"macroeconomic_data_merged.csv\")\n",
    "df_merged.to_csv(output_file, index=False)\n",
    "\n",
    "print(f\"Merged dataset saved to: {output_file}\")\n"
   ]
  },
  {
   "cell_type": "markdown",
   "metadata": {},
   "source": [
    "# Converting Credit Risk to monthly data from daily & handling missing values"
   ]
  },
  {
   "cell_type": "code",
   "execution_count": 2,
   "metadata": {},
   "outputs": [
    {
     "name": "stdout",
     "output_type": "stream",
     "text": [
      "Initial Data:\n",
      "                  BAMLH0A0HYM2\n",
      "observation_date              \n",
      "1996-12-31                3.13\n",
      "1997-01-01                 NaN\n",
      "1997-01-02                3.06\n",
      "1997-01-03                3.09\n",
      "1997-01-06                3.10\n",
      "1997-01-07                3.10\n",
      "1997-01-08                3.07\n",
      "1997-01-09                3.13\n",
      "1997-01-10                3.16\n",
      "1997-01-13                3.04\n",
      "\n",
      "Monthly Mean Aggregation:\n",
      "                  BAMLH0A0HYM2\n",
      "observation_date              \n",
      "1996-12-31            3.130000\n",
      "1997-01-31            3.036957\n",
      "1997-02-28            2.956000\n",
      "1997-03-31            2.696190\n",
      "1997-04-30            2.893182\n",
      "\n",
      "Monthly Last Observation Aggregation:\n",
      "                  BAMLH0A0HYM2\n",
      "observation_date              \n",
      "1996-12-31                3.13\n",
      "1997-01-31                3.04\n",
      "1997-02-28                2.73\n",
      "1997-03-31                2.84\n",
      "1997-04-30                2.94\n",
      "Monthly aggregated files have been saved.\n"
     ]
    }
   ],
   "source": [
    "import pandas as pd\n",
    "\n",
    "# Define the path to your CSV file\n",
    "file_path = r\"C:\\Users\\viraj\\BuildSpace\\Projects\\Macroeconomic-Regime-Analysis-Credit-Risk\\datasets\\ICE BofA US High Yield Index Option-Adjusted Spread_BAMLH0A0HYM2.csv\"\n",
    "\n",
    "# Load the data\n",
    "df = pd.read_csv(file_path)\n",
    "\n",
    "# Convert the observation_date to datetime and set as index\n",
    "df['observation_date'] = pd.to_datetime(df['observation_date'])\n",
    "df.set_index('observation_date', inplace=True)\n",
    "\n",
    "# Display initial data\n",
    "print(\"Initial Data:\")\n",
    "print(df.head(10))\n",
    "\n",
    "# Handle missing values in the 'BAMLH0A0HYM2' column.\n",
    "# Method 1: Forward Fill (ffill)\n",
    "df_ffill = df.copy()\n",
    "df_ffill['BAMLH0A0HYM2'] = df_ffill['BAMLH0A0HYM2'].ffill()\n",
    "\n",
    "# Method 2: Interpolation\n",
    "df_interp = df.copy()\n",
    "df_interp['BAMLH0A0HYM2'] = df_interp['BAMLH0A0HYM2'].interpolate(method='linear')\n",
    "\n",
    "# You can choose either method depending on your preference. Here we use forward fill.\n",
    "df_clean = df_ffill\n",
    "\n",
    "# Now, convert daily data to monthly.\n",
    "# Method A: Using Monthly Mean\n",
    "monthly_mean = df_clean.resample('M').mean()\n",
    "\n",
    "# Method B: Using Last Observation of the Month\n",
    "monthly_last = df_clean.resample('M').last()\n",
    "\n",
    "# Display the resampled data for both methods\n",
    "print(\"\\nMonthly Mean Aggregation:\")\n",
    "print(monthly_mean.head())\n",
    "\n",
    "print(\"\\nMonthly Last Observation Aggregation:\")\n",
    "print(monthly_last.head())\n",
    "\n",
    "# Save the monthly aggregated data back to CSV files (if needed)\n",
    "monthly_mean.to_csv(r\"C:\\Users\\viraj\\BuildSpace\\Projects\\Macroeconomic-Regime-Analysis-Credit-Risk\\datasets\\credit_spread_monthly_mean.csv\")\n",
    "monthly_last.to_csv(r\"C:\\Users\\viraj\\BuildSpace\\Projects\\Macroeconomic-Regime-Analysis-Credit-Risk\\datasets\\credit_spread_monthly_last.csv\")\n",
    "\n",
    "print(\"Monthly aggregated files have been saved.\")\n"
   ]
  },
  {
   "cell_type": "markdown",
   "metadata": {},
   "source": [
    "# Handle inconsistency in 'observation_date'"
   ]
  },
  {
   "cell_type": "code",
   "execution_count": 3,
   "metadata": {},
   "outputs": [
    {
     "name": "stdout",
     "output_type": "stream",
     "text": [
      "Merged dataset saved to: C:\\Users\\viraj\\BuildSpace\\Projects\\Macroeconomic-Regime-Analysis-Credit-Risk\\datasets\\merged_macroeconomic_credit.csv\n"
     ]
    }
   ],
   "source": [
    "import pandas as pd\n",
    "import os\n",
    "\n",
    "# File paths\n",
    "macro_file = r\"C:\\Users\\viraj\\BuildSpace\\Projects\\Macroeconomic-Regime-Analysis-Credit-Risk\\datasets\\macroeconomic_data_merged.csv\"\n",
    "credit_file = r\"C:\\Users\\viraj\\BuildSpace\\Projects\\Macroeconomic-Regime-Analysis-Credit-Risk\\datasets\\credit_spread_monthly_mean.csv\"\n",
    "\n",
    "# Load the datasets\n",
    "macro_df = pd.read_csv(macro_file)\n",
    "credit_df = pd.read_csv(credit_file)\n",
    "\n",
    "# Function to standardize dates to end-of-month\n",
    "def standardize_to_eom(df, date_col):\n",
    "    df[date_col] = pd.to_datetime(df[date_col])\n",
    "    # Convert the date to a Period (monthly) then back to timestamp representing the end of that month\n",
    "    df[date_col] = df[date_col].dt.to_period('M').dt.to_timestamp('M')\n",
    "    return df\n",
    "\n",
    "# Standardize dates in both datasets\n",
    "macro_df = standardize_to_eom(macro_df, 'Date')\n",
    "credit_df = standardize_to_eom(credit_df, 'observation_date')\n",
    "\n",
    "# Merge the datasets on the standardized date columns\n",
    "merged_df = pd.merge(macro_df, credit_df, left_on='Date', right_on='observation_date', how='outer')\n",
    "\n",
    "# Optionally, drop duplicate date columns or rename for clarity\n",
    "merged_df.drop(columns=['observation_date'], inplace=True)\n",
    "merged_df.rename(columns={'Date': 'Month_End'}, inplace=True)\n",
    "\n",
    "# Sort by the date\n",
    "merged_df.sort_values('Month_End', inplace=True)\n",
    "\n",
    "# Save the merged dataset\n",
    "output_path = os.path.join(os.path.dirname(macro_file), \"merged_macroeconomic_credit.csv\")\n",
    "merged_df.to_csv(output_path, index=False)\n",
    "\n",
    "print(f\"Merged dataset saved to: {output_path}\")\n"
   ]
  }
 ],
 "metadata": {
  "kernelspec": {
   "display_name": "Python 3",
   "language": "python",
   "name": "python3"
  },
  "language_info": {
   "codemirror_mode": {
    "name": "ipython",
    "version": 3
   },
   "file_extension": ".py",
   "mimetype": "text/x-python",
   "name": "python",
   "nbconvert_exporter": "python",
   "pygments_lexer": "ipython3",
   "version": "3.9.6"
  }
 },
 "nbformat": 4,
 "nbformat_minor": 2
}
